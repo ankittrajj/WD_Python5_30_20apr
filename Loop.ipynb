{
 "cells": [
  {
   "cell_type": "code",
   "execution_count": 1,
   "id": "680ed261",
   "metadata": {},
   "outputs": [],
   "source": [
    "#two types of loop\n",
    "# 1 for loop\n",
    "# 2 while loop\n",
    "\n"
   ]
  },
  {
   "cell_type": "markdown",
   "id": "358c2be5",
   "metadata": {},
   "source": [
    "# For loop"
   ]
  },
  {
   "cell_type": "code",
   "execution_count": 2,
   "id": "7e073604",
   "metadata": {},
   "outputs": [
    {
     "name": "stdout",
     "output_type": "stream",
     "text": [
      "0\n",
      "1\n",
      "2\n",
      "3\n",
      "4\n",
      "5\n",
      "6\n",
      "7\n",
      "8\n",
      "9\n"
     ]
    }
   ],
   "source": [
    "#range function\n",
    "\n",
    "\n",
    "# Syntax of for loop.\n",
    "\n",
    "# for i in range()\n",
    "\n",
    "\n",
    "# code---->\n",
    "\n",
    "for x in range(10):\n",
    "    print(x)"
   ]
  },
  {
   "cell_type": "code",
   "execution_count": 3,
   "id": "2d5bc046",
   "metadata": {},
   "outputs": [
    {
     "name": "stdout",
     "output_type": "stream",
     "text": [
      "2\n",
      "3\n",
      "4\n",
      "5\n",
      "6\n",
      "7\n",
      "8\n",
      "9\n"
     ]
    }
   ],
   "source": [
    "for i in range(2,10):\n",
    "    print(i)"
   ]
  },
  {
   "cell_type": "code",
   "execution_count": 4,
   "id": "44c2e21b",
   "metadata": {},
   "outputs": [
    {
     "name": "stdout",
     "output_type": "stream",
     "text": [
      "1\n",
      "3\n",
      "5\n",
      "7\n",
      "9\n",
      "11\n",
      "13\n",
      "15\n",
      "17\n",
      "19\n"
     ]
    }
   ],
   "source": [
    "for i in range(1,20,2):\n",
    "    print(i)"
   ]
  },
  {
   "cell_type": "code",
   "execution_count": 5,
   "id": "6e5321e3",
   "metadata": {},
   "outputs": [],
   "source": [
    "# range(starting point, ending point(n-1),step value(n-1))\n",
    "for i in range(20,2,1):\n",
    "    print(i)"
   ]
  },
  {
   "cell_type": "code",
   "execution_count": 6,
   "id": "df73426b",
   "metadata": {},
   "outputs": [
    {
     "name": "stdout",
     "output_type": "stream",
     "text": [
      "20\n",
      "19\n",
      "18\n",
      "17\n",
      "16\n",
      "15\n",
      "14\n",
      "13\n",
      "12\n",
      "11\n",
      "10\n",
      "9\n",
      "8\n",
      "7\n",
      "6\n",
      "5\n",
      "4\n",
      "3\n"
     ]
    }
   ],
   "source": [
    "for i in range(20,2,-1):\n",
    "    print(i)"
   ]
  },
  {
   "cell_type": "code",
   "execution_count": 7,
   "id": "3211ce39",
   "metadata": {},
   "outputs": [
    {
     "name": "stdout",
     "output_type": "stream",
     "text": [
      "1\n",
      "2\n",
      "3\n",
      "4\n",
      "5\n",
      "6\n",
      "7\n",
      "8\n",
      "9\n",
      "10\n"
     ]
    }
   ],
   "source": [
    "#Wap to print 10 natural no. using loop.\n",
    "\n",
    "for a in range(1,11):\n",
    "    print(a)"
   ]
  },
  {
   "cell_type": "code",
   "execution_count": 8,
   "id": "2b3bcc00",
   "metadata": {},
   "outputs": [
    {
     "name": "stdout",
     "output_type": "stream",
     "text": [
      "-10\n",
      "-9\n",
      "-8\n",
      "-7\n",
      "-6\n",
      "-5\n",
      "-4\n",
      "-3\n",
      "-2\n",
      "-1\n",
      "0\n",
      "1\n",
      "2\n",
      "3\n",
      "4\n",
      "5\n",
      "6\n",
      "7\n",
      "8\n",
      "9\n",
      "10\n"
     ]
    }
   ],
   "source": [
    "# WAP to print number from -10 to 10 using loop.\n",
    "for i in range(-10,11):\n",
    "    print(i)"
   ]
  },
  {
   "cell_type": "markdown",
   "id": "29c4c07e",
   "metadata": {},
   "source": [
    "# While loop"
   ]
  },
  {
   "cell_type": "code",
   "execution_count": 9,
   "id": "11e4c484",
   "metadata": {},
   "outputs": [
    {
     "name": "stdout",
     "output_type": "stream",
     "text": [
      "1\n",
      "2\n",
      "3\n",
      "4\n",
      "5\n",
      "6\n",
      "7\n",
      "8\n",
      "9\n"
     ]
    }
   ],
   "source": [
    "#1. initialization-----> from where to start\n",
    "# 2. condition\n",
    "# 3. increment/decrement.\n",
    "\n",
    "\n",
    "# wap to print 1-10.\n",
    "\n",
    "x=1\n",
    "while x<10:\n",
    "    print(x)\n",
    "    x=x+1\n",
    "#     x+=1\n",
    "#     x++/x--"
   ]
  },
  {
   "cell_type": "code",
   "execution_count": 17,
   "id": "f1119ae2",
   "metadata": {},
   "outputs": [
    {
     "name": "stdout",
     "output_type": "stream",
     "text": [
      "Odd number---> 1\n",
      "Even number---> 2\n",
      "Odd number---> 3\n",
      "Even number---> 4\n",
      "Odd number---> 5\n",
      "Even number---> 6\n",
      "Odd number---> 7\n",
      "Even number---> 8\n",
      "Odd number---> 9\n",
      "Even number---> 10\n"
     ]
    }
   ],
   "source": [
    "# wap to find odd & even number from 1-20 using while loop.\n",
    "\n",
    "x = 1\n",
    "while x <= 10:\n",
    "    if x % 2 == 0:\n",
    "        print(\"Even number--->\",x)\n",
    "    else:\n",
    "        print(\"Odd number--->\",x)\n",
    "        \n",
    "    x+=1\n",
    "   \n"
   ]
  },
  {
   "cell_type": "code",
   "execution_count": 12,
   "id": "ac79abea",
   "metadata": {},
   "outputs": [
    {
     "name": "stdout",
     "output_type": "stream",
     "text": [
      "Even number\n"
     ]
    }
   ],
   "source": [
    "x=10\n",
    "if x % 2 == 0:\n",
    "    print(\"Even number\")\n",
    "else:\n",
    "    print(\"Odd number\")"
   ]
  },
  {
   "cell_type": "code",
   "execution_count": 18,
   "id": "aebeceaf",
   "metadata": {},
   "outputs": [
    {
     "name": "stdout",
     "output_type": "stream",
     "text": [
      "Odd number---> 1\n",
      "Even number---> 2\n",
      "Odd number---> 3\n",
      "Even number---> 4\n",
      "Odd number---> 5\n",
      "Even number---> 6\n",
      "Odd number---> 7\n",
      "Even number---> 8\n",
      "Odd number---> 9\n",
      "Even number---> 10\n"
     ]
    }
   ],
   "source": [
    "x = 1\n",
    "while x <= 10:\n",
    "    if x % 2 != 0:\n",
    "        print(\"Odd number--->\",x)\n",
    "    else:\n",
    "        print(\"Even number--->\",x)\n",
    "        \n",
    "    x+=1\n",
    "   \n"
   ]
  },
  {
   "cell_type": "code",
   "execution_count": 19,
   "id": "3d4f0e9b",
   "metadata": {},
   "outputs": [
    {
     "data": {
      "text/plain": [
       "1"
      ]
     },
     "execution_count": 19,
     "metadata": {},
     "output_type": "execute_result"
    }
   ],
   "source": [
    "# wap to count total number in a digit ?\n",
    "#wap to reverse a number?\n",
    "# Wap to find a number is prime number or not?\n",
    "#wap to find a number is palindrome or not??\n",
    "\n",
    "\n",
    "\n",
    "a=10\n",
    "b=3\n",
    "c = a%b\n",
    "c"
   ]
  },
  {
   "cell_type": "code",
   "execution_count": null,
   "id": "708fb86e",
   "metadata": {},
   "outputs": [],
   "source": []
  }
 ],
 "metadata": {
  "kernelspec": {
   "display_name": "Python 3 (ipykernel)",
   "language": "python",
   "name": "python3"
  },
  "language_info": {
   "codemirror_mode": {
    "name": "ipython",
    "version": 3
   },
   "file_extension": ".py",
   "mimetype": "text/x-python",
   "name": "python",
   "nbconvert_exporter": "python",
   "pygments_lexer": "ipython3",
   "version": "3.9.7"
  }
 },
 "nbformat": 4,
 "nbformat_minor": 5
}
