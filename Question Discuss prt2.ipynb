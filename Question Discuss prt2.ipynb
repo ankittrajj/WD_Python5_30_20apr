{
 "cells": [
  {
   "cell_type": "code",
   "execution_count": 6,
   "id": "ff1d46db",
   "metadata": {},
   "outputs": [
    {
     "name": "stdout",
     "output_type": "stream",
     "text": [
      "Enter the price100\n",
      "discount op!! 340.0\n",
      "User will pay ----> 3060.0\n"
     ]
    }
   ],
   "source": [
    "# A shop will give discount of 10% if the cost of \n",
    "# purchased bill is more than 1000.\n",
    "# Ask user for quantity\n",
    "# Suppose, one unit will cost 100.\n",
    "# Judge and print total cost for user.\n",
    "\n",
    "\n",
    "\n",
    "item_price = int(input(\"Enter the price\"))\n",
    "quantity_of_item_purchase = 34\n",
    "total_bill = item_price * quantity_of_item_purchase\n",
    "\n",
    "\n",
    "if total_bill > 1000:\n",
    "    discount = (total_bill *10 )/100\n",
    "    \n",
    "    price_after_discount = total_bill - discount\n",
    "    print(\"discount op!!\",discount)\n",
    "    print(\"User will pay ---->\",price_after_discount)\n",
    "    \n",
    "else:\n",
    "    print(\"no discount\")"
   ]
  },
  {
   "cell_type": "code",
   "execution_count": 25,
   "id": "3bfbed5b",
   "metadata": {},
   "outputs": [
    {
     "name": "stdout",
     "output_type": "stream",
     "text": [
      "Enter your marks/percentage45\n",
      "E grade\n"
     ]
    }
   ],
   "source": [
    "# A school has following rules for grading system:\n",
    "# a. Below 25 - F\n",
    "# b. 25 to 45 - E\n",
    "# c. 45 to 50 - D\n",
    "# d. 50 to 60 - C\n",
    "# e. 60 to 80 - B\n",
    "# f. Above 80 - A\n",
    "# Ask user to enter marks and print the corresponding grade\n",
    "\n",
    "\n",
    "grade =float(input(\"Enter your marks/percentage\"))\n",
    "if grade>80:\n",
    "    print(\"A grade\")\n",
    "elif grade <= 80 and grade > 60:\n",
    "    print(\"B grade\")\n",
    "elif grade >50 and grade <= 60:\n",
    "    print(\"C grade\")\n",
    "elif grade > 45 and grade <=50:\n",
    "    print(\"D grade\")\n",
    "elif grade >= 25 and grade <= 45:\n",
    "    print(\"E grade\")\n",
    "elif grade < 25:\n",
    "    print(\"F grade\")\n",
    "    \n",
    "\n",
    "\n"
   ]
  },
  {
   "cell_type": "code",
   "execution_count": 30,
   "id": "02e7df7c",
   "metadata": {},
   "outputs": [
    {
     "name": "stdout",
     "output_type": "stream",
     "text": [
      "45\n"
     ]
    }
   ],
   "source": [
    "a=20\n",
    "b=45\n",
    "c = a\n",
    "a = b\n",
    "b = c\n",
    "\n",
    "print(a)"
   ]
  },
  {
   "cell_type": "code",
   "execution_count": 31,
   "id": "1b354109",
   "metadata": {},
   "outputs": [
    {
     "name": "stdout",
     "output_type": "stream",
     "text": [
      "20\n"
     ]
    }
   ],
   "source": [
    "print(b)"
   ]
  },
  {
   "cell_type": "code",
   "execution_count": 32,
   "id": "ad0c36e9",
   "metadata": {},
   "outputs": [
    {
     "name": "stdout",
     "output_type": "stream",
     "text": [
      "23\n"
     ]
    }
   ],
   "source": [
    "#without temp variable.\n",
    "# a=23\n",
    "# b=90\n",
    "a,b = 23,90\n",
    "\n",
    "print(a)"
   ]
  },
  {
   "cell_type": "code",
   "execution_count": 33,
   "id": "23f8d416",
   "metadata": {},
   "outputs": [
    {
     "name": "stdout",
     "output_type": "stream",
     "text": [
      "90\n"
     ]
    }
   ],
   "source": [
    "print(b)"
   ]
  },
  {
   "cell_type": "code",
   "execution_count": 34,
   "id": "df43ce4a",
   "metadata": {},
   "outputs": [
    {
     "name": "stdout",
     "output_type": "stream",
     "text": [
      "45\n"
     ]
    }
   ],
   "source": [
    "a = 10\n",
    "b = 45\n",
    "a,b = b,a\n",
    "print(a)\n"
   ]
  },
  {
   "cell_type": "code",
   "execution_count": 35,
   "id": "01c3222c",
   "metadata": {},
   "outputs": [
    {
     "name": "stdout",
     "output_type": "stream",
     "text": [
      "10\n"
     ]
    }
   ],
   "source": [
    "print(b)"
   ]
  },
  {
   "cell_type": "code",
   "execution_count": 36,
   "id": "56e31cca",
   "metadata": {},
   "outputs": [
    {
     "name": "stdout",
     "output_type": "stream",
     "text": [
      "0\n"
     ]
    }
   ],
   "source": [
    "a=9\n",
    "b=0\n",
    "a=b\n",
    "b=a\n",
    "print(a)"
   ]
  },
  {
   "cell_type": "code",
   "execution_count": 37,
   "id": "3111a02d",
   "metadata": {},
   "outputs": [
    {
     "name": "stdout",
     "output_type": "stream",
     "text": [
      "0\n"
     ]
    }
   ],
   "source": [
    "print(b)"
   ]
  },
  {
   "cell_type": "code",
   "execution_count": 40,
   "id": "00c79cbd",
   "metadata": {},
   "outputs": [
    {
     "name": "stdout",
     "output_type": "stream",
     "text": [
      "88.88888888888889\n",
      "Allowed in exam\n"
     ]
    }
   ],
   "source": [
    "# A student will not be allowed to sit in exam \n",
    "# if his/her attendance is less than 75%.\n",
    "\n",
    "# Take following input from user\n",
    "# Number of classes held\n",
    "# Number of classes attended.\n",
    "# And print\n",
    "# percentage of class attended\n",
    "# Is student is allowed to sit in exam or not.\n",
    "\n",
    "\n",
    "num_of_classes_held = 45\n",
    "num_of_classes_attend = 40\n",
    "\n",
    "per_class_attend = (num_of_classes_attend * 100 )/ num_of_classes_held\n",
    "print(per_class_attend)\n",
    "\n",
    "if per_class_attend > 75:\n",
    "    print(\"Allowed in exam\")\n",
    "else:\n",
    "    print(\"Not allowed!!\")\n",
    "\n"
   ]
  },
  {
   "cell_type": "code",
   "execution_count": 44,
   "id": "cdbf3e8c",
   "metadata": {},
   "outputs": [
    {
     "name": "stdout",
     "output_type": "stream",
     "text": [
      "8.88888888888889\n",
      "Not allowed---- No medical condition!!\n"
     ]
    }
   ],
   "source": [
    "# Modify the above question to allow student to sit if he/she has medical cause. Ask user if he/she has medical cause \n",
    "# or not ( 'Y' or 'N' ) and print accordingly.\n",
    "\n",
    "num_of_classes_held = 45\n",
    "num_of_classes_attend = 4\n",
    "medical_condition = 'no'\n",
    "\n",
    "per_class_attend = (num_of_classes_attend * 100 )/ num_of_classes_held\n",
    "print(per_class_attend)\n",
    "\n",
    "if per_class_attend > 75:\n",
    "    print(\"Allowed in exam\")\n",
    "elif per_class_attend < 75:\n",
    "    if medical_condition == 'yes':\n",
    "        print(\"Allowed due to medical condition\")\n",
    "    else:\n",
    "        print(\"Not allowed---- No medical condition!!\")\n",
    "else:\n",
    "    print(\"Not allowed!!\")"
   ]
  },
  {
   "cell_type": "code",
   "execution_count": null,
   "id": "9ef5416d",
   "metadata": {},
   "outputs": [],
   "source": []
  }
 ],
 "metadata": {
  "kernelspec": {
   "display_name": "Python 3 (ipykernel)",
   "language": "python",
   "name": "python3"
  },
  "language_info": {
   "codemirror_mode": {
    "name": "ipython",
    "version": 3
   },
   "file_extension": ".py",
   "mimetype": "text/x-python",
   "name": "python",
   "nbconvert_exporter": "python",
   "pygments_lexer": "ipython3",
   "version": "3.9.7"
  }
 },
 "nbformat": 4,
 "nbformat_minor": 5
}
