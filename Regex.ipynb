{
 "cells": [
  {
   "cell_type": "code",
   "execution_count": 2,
   "id": "3cb7f8d4",
   "metadata": {},
   "outputs": [],
   "source": [
    "a = lambda x,y,z : (x+y+z)/3"
   ]
  },
  {
   "cell_type": "code",
   "execution_count": 3,
   "id": "815b4f35",
   "metadata": {},
   "outputs": [
    {
     "data": {
      "text/plain": [
       "2.0"
      ]
     },
     "execution_count": 3,
     "metadata": {},
     "output_type": "execute_result"
    }
   ],
   "source": [
    "a(1,2,3)"
   ]
  },
  {
   "cell_type": "code",
   "execution_count": 9,
   "id": "2328d12a",
   "metadata": {},
   "outputs": [],
   "source": [
    "a = [1,2,3,4,5]\n",
    "from functools import reduce\n",
    "average = reduce(lambda x,y:x+y,a)"
   ]
  },
  {
   "cell_type": "code",
   "execution_count": 10,
   "id": "6c0969e2",
   "metadata": {},
   "outputs": [
    {
     "data": {
      "text/plain": [
       "1.1888"
      ]
     },
     "execution_count": 10,
     "metadata": {},
     "output_type": "execute_result"
    }
   ],
   "source": [
    "average"
   ]
  },
  {
   "cell_type": "code",
   "execution_count": 11,
   "id": "ff383a38",
   "metadata": {},
   "outputs": [
    {
     "data": {
      "text/plain": [
       "0.6"
      ]
     },
     "execution_count": 11,
     "metadata": {},
     "output_type": "execute_result"
    }
   ],
   "source": [
    "3/5"
   ]
  },
  {
   "cell_type": "code",
   "execution_count": 12,
   "id": "1eb96f05",
   "metadata": {},
   "outputs": [
    {
     "data": {
      "text/plain": [
       "3.6"
      ]
     },
     "execution_count": 12,
     "metadata": {},
     "output_type": "execute_result"
    }
   ],
   "source": [
    "0.6+3"
   ]
  },
  {
   "cell_type": "code",
   "execution_count": 13,
   "id": "fc1c51f3",
   "metadata": {},
   "outputs": [
    {
     "data": {
      "text/plain": [
       "0.72"
      ]
     },
     "execution_count": 13,
     "metadata": {},
     "output_type": "execute_result"
    }
   ],
   "source": [
    "3.6/5"
   ]
  },
  {
   "cell_type": "code",
   "execution_count": 14,
   "id": "670d22e7",
   "metadata": {},
   "outputs": [
    {
     "data": {
      "text/plain": [
       "4.72"
      ]
     },
     "execution_count": 14,
     "metadata": {},
     "output_type": "execute_result"
    }
   ],
   "source": [
    "0.72+4"
   ]
  },
  {
   "cell_type": "code",
   "execution_count": 18,
   "id": "ae9139a0",
   "metadata": {},
   "outputs": [
    {
     "data": {
      "text/plain": [
       "0.944"
      ]
     },
     "execution_count": 18,
     "metadata": {},
     "output_type": "execute_result"
    }
   ],
   "source": [
    "4.72/5"
   ]
  },
  {
   "cell_type": "code",
   "execution_count": 19,
   "id": "c2bec7e1",
   "metadata": {},
   "outputs": [
    {
     "data": {
      "text/plain": [
       "5.944"
      ]
     },
     "execution_count": 19,
     "metadata": {},
     "output_type": "execute_result"
    }
   ],
   "source": [
    "0.944+5"
   ]
  },
  {
   "cell_type": "code",
   "execution_count": 20,
   "id": "09ef6175",
   "metadata": {},
   "outputs": [
    {
     "data": {
      "text/plain": [
       "1.1888"
      ]
     },
     "execution_count": 20,
     "metadata": {},
     "output_type": "execute_result"
    }
   ],
   "source": [
    "5.944/5"
   ]
  },
  {
   "cell_type": "markdown",
   "id": "a0347508",
   "metadata": {},
   "source": [
    "# Regex"
   ]
  },
  {
   "cell_type": "code",
   "execution_count": 21,
   "id": "e3893d77",
   "metadata": {},
   "outputs": [],
   "source": [
    "import re"
   ]
  },
  {
   "cell_type": "code",
   "execution_count": 32,
   "id": "ca36bda7",
   "metadata": {},
   "outputs": [],
   "source": [
    "# search\n",
    "# findall\n",
    "# sub\n",
    "# finditer\n",
    "# split\n",
    "\n",
    "# findall\n",
    "a = 'I am a lion.Lion is a wild animal.lion is very chill bro.'\n",
    "x = re.findall('i',a)"
   ]
  },
  {
   "cell_type": "code",
   "execution_count": 33,
   "id": "a18e9b3f",
   "metadata": {},
   "outputs": [
    {
     "data": {
      "text/plain": [
       "['i', 'i', 'i', 'i', 'i', 'i', 'i', 'i']"
      ]
     },
     "execution_count": 33,
     "metadata": {},
     "output_type": "execute_result"
    }
   ],
   "source": [
    "x"
   ]
  },
  {
   "cell_type": "code",
   "execution_count": 34,
   "id": "5d327e63",
   "metadata": {},
   "outputs": [],
   "source": [
    "#search\n",
    "\n",
    "a = 'I am a lion.Lion is a wild animal.lion is very chill bro.'"
   ]
  },
  {
   "cell_type": "code",
   "execution_count": 41,
   "id": "abe63f13",
   "metadata": {},
   "outputs": [
    {
     "data": {
      "text/plain": [
       "<re.Match object; span=(7, 11), match='lion'>"
      ]
     },
     "execution_count": 41,
     "metadata": {},
     "output_type": "execute_result"
    }
   ],
   "source": [
    "re.search('lion',a)"
   ]
  },
  {
   "cell_type": "code",
   "execution_count": 43,
   "id": "180c7682",
   "metadata": {},
   "outputs": [
    {
     "data": {
      "text/plain": [
       "'I am a tiger.Lion is a wild animal.tiger is very chill bro.'"
      ]
     },
     "execution_count": 43,
     "metadata": {},
     "output_type": "execute_result"
    }
   ],
   "source": [
    "# sub\n",
    "a = 'I am a lion.Lion is a wild animal.lion is very chill bro.'\n",
    "re.sub('lion','tiger',a)\n"
   ]
  },
  {
   "cell_type": "code",
   "execution_count": 46,
   "id": "9840f163",
   "metadata": {},
   "outputs": [
    {
     "data": {
      "text/plain": [
       "['I am a ', '.Lion is a wild animal.', ' is very chill bro.']"
      ]
     },
     "execution_count": 46,
     "metadata": {},
     "output_type": "execute_result"
    }
   ],
   "source": [
    "# split----> \n",
    "a = 'I am a lion.Lion is a wild animal.lion is very chill bro.'\n",
    "re.split('lion',a)"
   ]
  },
  {
   "cell_type": "code",
   "execution_count": 51,
   "id": "9b60daef",
   "metadata": {},
   "outputs": [
    {
     "name": "stdout",
     "output_type": "stream",
     "text": [
      "Starting point is----> 34 Ending point is ------> 41\n"
     ]
    }
   ],
   "source": [
    "# finditer\n",
    "a = 'I am a lion.Lion is a wild animal.lion is very chill bro.'\n",
    "pattern = 'lion is'\n",
    "for i in re.finditer(pattern,a):\n",
    "    x = i.start()\n",
    "    y = i.end()\n",
    "    print(\"Starting point is---->\",x,\"Ending point is ------>\",y)"
   ]
  },
  {
   "cell_type": "code",
   "execution_count": 54,
   "id": "a4b51a6a",
   "metadata": {},
   "outputs": [
    {
     "name": "stdout",
     "output_type": "stream",
     "text": [
      "Starting point----> 8 Ending point----> 9\n",
      "Starting point----> 13 Ending point----> 14\n",
      "Starting point----> 17 Ending point----> 18\n",
      "Starting point----> 23 Ending point----> 24\n",
      "Starting point----> 29 Ending point----> 30\n",
      "Starting point----> 35 Ending point----> 36\n",
      "Starting point----> 39 Ending point----> 40\n",
      "Starting point----> 49 Ending point----> 50\n"
     ]
    }
   ],
   "source": [
    "for i in re.finditer('i',a):\n",
    "    x = i.start()\n",
    "    y = i.end()\n",
    "    print(\"Starting point---->\",x,\"Ending point---->\",y)\n",
    "    "
   ]
  },
  {
   "cell_type": "code",
   "execution_count": null,
   "id": "a6d952c8",
   "metadata": {},
   "outputs": [],
   "source": []
  }
 ],
 "metadata": {
  "kernelspec": {
   "display_name": "Python 3 (ipykernel)",
   "language": "python",
   "name": "python3"
  },
  "language_info": {
   "codemirror_mode": {
    "name": "ipython",
    "version": 3
   },
   "file_extension": ".py",
   "mimetype": "text/x-python",
   "name": "python",
   "nbconvert_exporter": "python",
   "pygments_lexer": "ipython3",
   "version": "3.9.7"
  }
 },
 "nbformat": 4,
 "nbformat_minor": 5
}
