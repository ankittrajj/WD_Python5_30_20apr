{
 "cells": [
  {
   "cell_type": "code",
   "execution_count": 3,
   "id": "7d71ddc5",
   "metadata": {},
   "outputs": [
    {
     "data": {
      "text/plain": [
       "<__main__.person at 0x20e4bd8a5b0>"
      ]
     },
     "execution_count": 3,
     "metadata": {},
     "output_type": "execute_result"
    }
   ],
   "source": [
    "#5.wap to make a class of having no properties,attribute or method(empty class)\n",
    "# just try to \n",
    "# make the object of the empty class and try to get the output of the code.\n",
    "\n",
    "#6.wap and try to get the attributes of the particular \n",
    "# class through the object.\n",
    "\n",
    "\n",
    "\n",
    "\n",
    "\n",
    "class person:\n",
    "    pass\n",
    "\n",
    "person()\n",
    "    "
   ]
  },
  {
   "cell_type": "code",
   "execution_count": 4,
   "id": "f4945ffd",
   "metadata": {},
   "outputs": [
    {
     "data": {
      "text/plain": [
       "'Bahuballi'"
      ]
     },
     "execution_count": 4,
     "metadata": {},
     "output_type": "execute_result"
    }
   ],
   "source": [
    "#6.wap and try to get the attributes of the particular \n",
    "# class through the object.\n",
    "\n",
    "class person:\n",
    "    def __init__(self,name):\n",
    "        self.name = name\n",
    "        \n",
    "p = person(\"Bahuballi\")\n",
    "p.name\n",
    "        \n",
    "    "
   ]
  },
  {
   "cell_type": "code",
   "execution_count": 5,
   "id": "ff373192",
   "metadata": {},
   "outputs": [
    {
     "name": "stdout",
     "output_type": "stream",
     "text": [
      "Bahuballi\n",
      "345\n"
     ]
    }
   ],
   "source": [
    "class person:\n",
    "    def info(self,name,age):\n",
    "        print(name)\n",
    "        print(age)\n",
    "        \n",
    "        \n",
    "p = person()\n",
    "p.info(\"Bahuballi\",345)\n",
    "        \n",
    "    "
   ]
  },
  {
   "cell_type": "markdown",
   "id": "9a92a599",
   "metadata": {},
   "source": [
    "# Multilevel Inheritance"
   ]
  },
  {
   "cell_type": "code",
   "execution_count": 6,
   "id": "6364922d",
   "metadata": {},
   "outputs": [],
   "source": [
    "# Method 1.\n",
    "# inherit from gpc to pc to child\n",
    "class gpc:\n",
    "    def __init__(self,name):\n",
    "        self.name= name\n",
    "        \n",
    "class pc(gpc):\n",
    "    def __init__(self,name,age):\n",
    "        super().__init__(name)\n",
    "        self.age = age\n",
    "        \n",
    "class child(pc):\n",
    "    def __init__(self,name,age,marks):\n",
    "        super().__init__(name,age)\n",
    "        self.marks = marks\n",
    "        \n",
    "    \n",
    "c = child(\"Jacky\",34,89)"
   ]
  },
  {
   "cell_type": "code",
   "execution_count": 7,
   "id": "28fa0b87",
   "metadata": {},
   "outputs": [
    {
     "data": {
      "text/plain": [
       "'Jacky'"
      ]
     },
     "execution_count": 7,
     "metadata": {},
     "output_type": "execute_result"
    }
   ],
   "source": [
    "c.name"
   ]
  },
  {
   "cell_type": "code",
   "execution_count": 8,
   "id": "0eeefc59",
   "metadata": {},
   "outputs": [
    {
     "data": {
      "text/plain": [
       "89"
      ]
     },
     "execution_count": 8,
     "metadata": {},
     "output_type": "execute_result"
    }
   ],
   "source": [
    "c.marks"
   ]
  },
  {
   "cell_type": "code",
   "execution_count": 12,
   "id": "cf7965d3",
   "metadata": {},
   "outputs": [],
   "source": [
    "# Method 2.\n",
    "# inherit from gpc to pc\n",
    "class gpc:\n",
    "    def __init__(self,name):\n",
    "        self.name= name\n",
    "        \n",
    "class pc(gpc):\n",
    "    def __init__(self,name,age):\n",
    "        super().__init__(name)\n",
    "        self.age = age\n",
    "        \n",
    "class child(pc):\n",
    "    def __init__(self,name,age,marks):\n",
    "        super().__init__(name,age)\n",
    "        self.marks = marks\n",
    "        \n",
    "p = pc(\"A\",78)\n",
    "        \n",
    "    \n"
   ]
  },
  {
   "cell_type": "code",
   "execution_count": 13,
   "id": "49828e2c",
   "metadata": {},
   "outputs": [
    {
     "data": {
      "text/plain": [
       "78"
      ]
     },
     "execution_count": 13,
     "metadata": {},
     "output_type": "execute_result"
    }
   ],
   "source": [
    "p.age"
   ]
  },
  {
   "cell_type": "code",
   "execution_count": 15,
   "id": "5211ef79",
   "metadata": {},
   "outputs": [],
   "source": [
    "# Method 3:\n",
    "# inherit from gpc to child\n",
    "class gpc:\n",
    "    def __init__(self,name):\n",
    "        self.name= name\n",
    "        \n",
    "class pc(gpc):\n",
    "    def __init__(self,name,age):\n",
    "        super().__init__(name)\n",
    "        self.age = age\n",
    "        \n",
    "class child(gpc):\n",
    "    def __init__(self,name,marks):\n",
    "        super().__init__(name)\n",
    "        self.marks = marks\n",
    "        \n",
    "c = child(\"A\",89)\n",
    "        "
   ]
  },
  {
   "cell_type": "code",
   "execution_count": 16,
   "id": "7a0336a3",
   "metadata": {},
   "outputs": [
    {
     "data": {
      "text/plain": [
       "('A', 89)"
      ]
     },
     "execution_count": 16,
     "metadata": {},
     "output_type": "execute_result"
    }
   ],
   "source": [
    "c.name,c.marks"
   ]
  },
  {
   "cell_type": "code",
   "execution_count": 17,
   "id": "78cc18f6",
   "metadata": {},
   "outputs": [
    {
     "ename": "AttributeError",
     "evalue": "'child' object has no attribute 'age'",
     "output_type": "error",
     "traceback": [
      "\u001b[1;31m---------------------------------------------------------------------------\u001b[0m",
      "\u001b[1;31mAttributeError\u001b[0m                            Traceback (most recent call last)",
      "\u001b[1;32m~\\AppData\\Local\\Temp/ipykernel_9316/1888818473.py\u001b[0m in \u001b[0;36m<module>\u001b[1;34m\u001b[0m\n\u001b[1;32m----> 1\u001b[1;33m \u001b[0mc\u001b[0m\u001b[1;33m.\u001b[0m\u001b[0mage\u001b[0m\u001b[1;33m\u001b[0m\u001b[1;33m\u001b[0m\u001b[0m\n\u001b[0m",
      "\u001b[1;31mAttributeError\u001b[0m: 'child' object has no attribute 'age'"
     ]
    }
   ],
   "source": [
    "c.age"
   ]
  },
  {
   "cell_type": "code",
   "execution_count": 18,
   "id": "a6d6e07f",
   "metadata": {},
   "outputs": [],
   "source": [
    "# Method 4:\n",
    "# inherit from pc to child.\n",
    "class gpc:\n",
    "    def __init__(self,name):\n",
    "        self.name= name\n",
    "        \n",
    "class pc:\n",
    "    def __init__(self,age):\n",
    "        self.age = age\n",
    "        \n",
    "class child(pc):\n",
    "    def __init__(self,age,marks):\n",
    "        super().__init__(age)\n",
    "        self.marks = marks\n",
    "        \n",
    "c = child(24,89)"
   ]
  },
  {
   "cell_type": "code",
   "execution_count": 19,
   "id": "bdbcdd1b",
   "metadata": {},
   "outputs": [
    {
     "data": {
      "text/plain": [
       "24"
      ]
     },
     "execution_count": 19,
     "metadata": {},
     "output_type": "execute_result"
    }
   ],
   "source": [
    "c.age"
   ]
  },
  {
   "cell_type": "code",
   "execution_count": 20,
   "id": "c4345632",
   "metadata": {},
   "outputs": [
    {
     "data": {
      "text/plain": [
       "89"
      ]
     },
     "execution_count": 20,
     "metadata": {},
     "output_type": "execute_result"
    }
   ],
   "source": [
    "c.marks"
   ]
  },
  {
   "cell_type": "code",
   "execution_count": null,
   "id": "dceeee89",
   "metadata": {},
   "outputs": [],
   "source": [
    "#wap make your parent class as empty class and also try to make a normal class\n",
    "# having some attributes related to students and try to find out the average\n",
    "# marks \n",
    "# of the student through the function itself and try to get the output of the \n",
    "# empty parent class normal class and the child class. \n",
    "\n"
   ]
  }
 ],
 "metadata": {
  "kernelspec": {
   "display_name": "Python 3 (ipykernel)",
   "language": "python",
   "name": "python3"
  },
  "language_info": {
   "codemirror_mode": {
    "name": "ipython",
    "version": 3
   },
   "file_extension": ".py",
   "mimetype": "text/x-python",
   "name": "python",
   "nbconvert_exporter": "python",
   "pygments_lexer": "ipython3",
   "version": "3.9.7"
  }
 },
 "nbformat": 4,
 "nbformat_minor": 5
}
