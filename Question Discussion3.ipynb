{
 "cells": [
  {
   "cell_type": "code",
   "execution_count": 1,
   "id": "7fb86043",
   "metadata": {},
   "outputs": [],
   "source": [
    "#wap to store 7 fruit items in a list entered by the user.\n",
    "\n",
    "#wap to display marks of 5 students & display them in sorted way. \n",
    "\n",
    "#check if tuple is mutable or not?\n",
    "\n",
    "#wap to add list of 4 numbers?\n",
    "\n",
    "#wap to count 7 in the tuple t=(7,77,777,-77,87,97,-7)"
   ]
  },
  {
   "cell_type": "code",
   "execution_count": 6,
   "id": "96f7ed94",
   "metadata": {},
   "outputs": [
    {
     "name": "stdout",
     "output_type": "stream",
     "text": [
      "enter the friutmango\n",
      "enter the friutapple\n",
      "enter the friutbannana\n",
      "enter the friutpine apple\n",
      "['mango', 'apple', 'bannana', 'pine apple']\n"
     ]
    }
   ],
   "source": [
    "#wap to store 3 fruit items in a list entered by the user.\n",
    "b = []\n",
    "for i in range(4):\n",
    "    x = input(\"enter the friut\")\n",
    "    b.append(x)\n",
    "    \n",
    "print(b)"
   ]
  },
  {
   "cell_type": "code",
   "execution_count": 21,
   "id": "f10edde9",
   "metadata": {},
   "outputs": [
    {
     "name": "stdout",
     "output_type": "stream",
     "text": [
      "Enter your marks90\n",
      "Enter your marks45\n",
      "Enter your marks99\n",
      "Enter your marks-1\n",
      "Enter your marks76\n",
      "Marks in random order [90, 45, 99, -1, 76]\n",
      "Marks in sorted form [-1, 45, 76, 90, 99]\n"
     ]
    }
   ],
   "source": [
    "#wap to display marks of 5 students & display them in sorted way.\n",
    "a = []\n",
    "for i in range(5):\n",
    "    x = int(input(\"Enter your marks\"))\n",
    "    a.append(x)\n",
    "    \n",
    "print(\"Marks in random order\",a)\n",
    "a.sort()\n",
    "print(\"Marks in sorted form\",a)"
   ]
  },
  {
   "cell_type": "code",
   "execution_count": 20,
   "id": "38a98ca1",
   "metadata": {},
   "outputs": [
    {
     "data": {
      "text/plain": [
       "[1, 2, 34, 90, 99]"
      ]
     },
     "execution_count": 20,
     "metadata": {},
     "output_type": "execute_result"
    }
   ],
   "source": [
    "# a.sort()\n",
    "a"
   ]
  },
  {
   "cell_type": "code",
   "execution_count": 15,
   "id": "55a8eb57",
   "metadata": {},
   "outputs": [
    {
     "data": {
      "text/plain": [
       "[-9, 23, 67, 76, 84]"
      ]
     },
     "execution_count": 15,
     "metadata": {},
     "output_type": "execute_result"
    }
   ],
   "source": [
    "a"
   ]
  },
  {
   "cell_type": "code",
   "execution_count": 22,
   "id": "551a99e6",
   "metadata": {},
   "outputs": [
    {
     "data": {
      "text/plain": [
       "(23, 'hello mark', 78, 45.3)"
      ]
     },
     "execution_count": 22,
     "metadata": {},
     "output_type": "execute_result"
    }
   ],
   "source": [
    "#check if tuple is mutable or not?\n",
    "\n",
    "#wap to add list of 4 numbers?\n",
    "\n",
    "#wap to count 7 in the tuple t=(7,77,777,-77,87,97,-7)\n",
    "\n",
    "t = (23,'hello mark',78,45.3)\n",
    "t"
   ]
  },
  {
   "cell_type": "code",
   "execution_count": 23,
   "id": "47bebe0b",
   "metadata": {},
   "outputs": [
    {
     "data": {
      "text/plain": [
       "tuple"
      ]
     },
     "execution_count": 23,
     "metadata": {},
     "output_type": "execute_result"
    }
   ],
   "source": [
    "type(t)"
   ]
  },
  {
   "cell_type": "code",
   "execution_count": 27,
   "id": "ceb44a78",
   "metadata": {},
   "outputs": [
    {
     "ename": "TypeError",
     "evalue": "'tuple' object does not support item assignment",
     "output_type": "error",
     "traceback": [
      "\u001b[1;31m---------------------------------------------------------------------------\u001b[0m",
      "\u001b[1;31mTypeError\u001b[0m                                 Traceback (most recent call last)",
      "\u001b[1;32m~\\AppData\\Local\\Temp/ipykernel_1740/2239805849.py\u001b[0m in \u001b[0;36m<module>\u001b[1;34m\u001b[0m\n\u001b[1;32m----> 1\u001b[1;33m \u001b[0mt\u001b[0m\u001b[1;33m[\u001b[0m\u001b[1;36m0\u001b[0m\u001b[1;33m]\u001b[0m\u001b[1;33m=\u001b[0m\u001b[1;36m100\u001b[0m\u001b[1;33m\u001b[0m\u001b[1;33m\u001b[0m\u001b[0m\n\u001b[0m",
      "\u001b[1;31mTypeError\u001b[0m: 'tuple' object does not support item assignment"
     ]
    }
   ],
   "source": [
    "t[0]=100"
   ]
  },
  {
   "cell_type": "code",
   "execution_count": 30,
   "id": "82d46fbd",
   "metadata": {},
   "outputs": [
    {
     "name": "stdout",
     "output_type": "stream",
     "text": [
      "10\n"
     ]
    }
   ],
   "source": [
    "#wap to add list of 4 numbers?\n",
    "l = [1,2,3,4]\n",
    "count = 0\n",
    "for i in l:\n",
    "    count = count+i\n",
    "print(count)\n",
    "    "
   ]
  },
  {
   "cell_type": "code",
   "execution_count": 32,
   "id": "936646eb",
   "metadata": {},
   "outputs": [
    {
     "name": "stdout",
     "output_type": "stream",
     "text": [
      "enter your marks34\n",
      "enter your marks45\n",
      "enter your marks78\n",
      "enter your marks1\n",
      "enter your marks23\n",
      "[34, 45, 78, 1, 23]\n",
      "[1, 23, 34, 45, 78]\n"
     ]
    }
   ],
   "source": [
    "a=[]\n",
    "for i in range(5):\n",
    "    x=int(input(\"enter your marks\"))\n",
    "    a.append(x)\n",
    "print(a)\n",
    "a.sort()\n",
    "print(a)"
   ]
  },
  {
   "cell_type": "code",
   "execution_count": 35,
   "id": "0ef30c4a",
   "metadata": {},
   "outputs": [
    {
     "data": {
      "text/plain": [
       "2"
      ]
     },
     "execution_count": 35,
     "metadata": {},
     "output_type": "execute_result"
    }
   ],
   "source": [
    "# wap to count 7 in the tuple \n",
    "t=(7,77,777,-77,87,97,-7,-7)\n",
    "t.count(-7)"
   ]
  },
  {
   "cell_type": "code",
   "execution_count": null,
   "id": "73c2eff1",
   "metadata": {},
   "outputs": [],
   "source": []
  }
 ],
 "metadata": {
  "kernelspec": {
   "display_name": "Python 3 (ipykernel)",
   "language": "python",
   "name": "python3"
  },
  "language_info": {
   "codemirror_mode": {
    "name": "ipython",
    "version": 3
   },
   "file_extension": ".py",
   "mimetype": "text/x-python",
   "name": "python",
   "nbconvert_exporter": "python",
   "pygments_lexer": "ipython3",
   "version": "3.9.7"
  }
 },
 "nbformat": 4,
 "nbformat_minor": 5
}
