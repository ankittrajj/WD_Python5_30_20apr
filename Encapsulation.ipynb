{
 "cells": [
  {
   "cell_type": "code",
   "execution_count": 8,
   "id": "7c2b399f",
   "metadata": {},
   "outputs": [
    {
     "name": "stdout",
     "output_type": "stream",
     "text": [
      "A\n",
      "34\n"
     ]
    }
   ],
   "source": [
    "# public\n",
    "class student:\n",
    "    def info(self,name,age):\n",
    "        print(name)\n",
    "        print(age)\n",
    "        \n",
    "s= student()\n",
    "s.info('A',34)"
   ]
  },
  {
   "cell_type": "code",
   "execution_count": 7,
   "id": "f96b0063",
   "metadata": {},
   "outputs": [
    {
     "data": {
      "text/plain": [
       "'A'"
      ]
     },
     "execution_count": 7,
     "metadata": {},
     "output_type": "execute_result"
    }
   ],
   "source": [
    "# private\n",
    "class std:\n",
    "    name = 'A'\n",
    "    __age = 34\n",
    "#     print(name)\n",
    "#     print(age)\n",
    "    \n",
    "s = std()\n",
    "s.name\n",
    "# s.age"
   ]
  },
  {
   "cell_type": "code",
   "execution_count": 16,
   "id": "b4936dc4",
   "metadata": {},
   "outputs": [
    {
     "data": {
      "text/plain": [
       "'john'"
      ]
     },
     "execution_count": 16,
     "metadata": {},
     "output_type": "execute_result"
    }
   ],
   "source": [
    "# protected\n",
    "class emp:\n",
    "    name = 'john'\n",
    "    __age = 45\n",
    "    _salary = 78000\n",
    "    \n",
    "e = emp()\n",
    "e.name"
   ]
  },
  {
   "cell_type": "code",
   "execution_count": 19,
   "id": "1724e9a6",
   "metadata": {},
   "outputs": [
    {
     "ename": "AttributeError",
     "evalue": "'emp' object has no attribute '__age'",
     "output_type": "error",
     "traceback": [
      "\u001b[1;31m---------------------------------------------------------------------------\u001b[0m",
      "\u001b[1;31mAttributeError\u001b[0m                            Traceback (most recent call last)",
      "\u001b[1;32m~\\AppData\\Local\\Temp/ipykernel_2848/3600285732.py\u001b[0m in \u001b[0;36m<module>\u001b[1;34m\u001b[0m\n\u001b[1;32m----> 1\u001b[1;33m \u001b[0me\u001b[0m\u001b[1;33m.\u001b[0m\u001b[0m__age\u001b[0m\u001b[1;33m\u001b[0m\u001b[1;33m\u001b[0m\u001b[0m\n\u001b[0m",
      "\u001b[1;31mAttributeError\u001b[0m: 'emp' object has no attribute '__age'"
     ]
    }
   ],
   "source": [
    "e.__age"
   ]
  },
  {
   "cell_type": "code",
   "execution_count": 18,
   "id": "6ee80dbf",
   "metadata": {},
   "outputs": [
    {
     "data": {
      "text/plain": [
       "78000"
      ]
     },
     "execution_count": 18,
     "metadata": {},
     "output_type": "execute_result"
    }
   ],
   "source": [
    "e._salary"
   ]
  },
  {
   "cell_type": "code",
   "execution_count": 25,
   "id": "39886a5d",
   "metadata": {},
   "outputs": [
    {
     "ename": "AttributeError",
     "evalue": "'emp' object has no attribute 'detail'",
     "output_type": "error",
     "traceback": [
      "\u001b[1;31m---------------------------------------------------------------------------\u001b[0m",
      "\u001b[1;31mAttributeError\u001b[0m                            Traceback (most recent call last)",
      "\u001b[1;32m~\\AppData\\Local\\Temp/ipykernel_2848/1136123561.py\u001b[0m in \u001b[0;36m<module>\u001b[1;34m\u001b[0m\n\u001b[0;32m     11\u001b[0m \u001b[1;33m\u001b[0m\u001b[0m\n\u001b[0;32m     12\u001b[0m \u001b[0me\u001b[0m \u001b[1;33m=\u001b[0m \u001b[0memp\u001b[0m\u001b[1;33m(\u001b[0m\u001b[1;33m)\u001b[0m\u001b[1;33m\u001b[0m\u001b[1;33m\u001b[0m\u001b[0m\n\u001b[1;32m---> 13\u001b[1;33m \u001b[0me\u001b[0m\u001b[1;33m.\u001b[0m\u001b[0mdetail\u001b[0m\u001b[1;33m(\u001b[0m\u001b[1;34m'Jem'\u001b[0m\u001b[1;33m,\u001b[0m\u001b[1;36m34000\u001b[0m\u001b[1;33m,\u001b[0m\u001b[1;34m'121KSW'\u001b[0m\u001b[1;33m)\u001b[0m\u001b[1;33m\u001b[0m\u001b[1;33m\u001b[0m\u001b[0m\n\u001b[0m",
      "\u001b[1;31mAttributeError\u001b[0m: 'emp' object has no attribute 'detail'"
     ]
    }
   ],
   "source": [
    "# variables\n",
    "\n",
    "#wap to make a function public private & protected.\n",
    "# try to write the code for public and private.\n",
    "\n",
    "class emp:\n",
    "    def _detail(self,name,salary,emp_id):\n",
    "        print(name)\n",
    "        print(salary)\n",
    "        print(emp_id)\n",
    "        \n",
    "        \n",
    "\n",
    "        \n",
    "e = emp()\n",
    "e.detail('Jem',34000,'121KSW')"
   ]
  },
  {
   "cell_type": "markdown",
   "id": "4a2b6658",
   "metadata": {},
   "source": [
    "# Polymorphism"
   ]
  },
  {
   "cell_type": "code",
   "execution_count": 26,
   "id": "3b154358",
   "metadata": {},
   "outputs": [
    {
     "data": {
      "text/plain": [
       "3"
      ]
     },
     "execution_count": 26,
     "metadata": {},
     "output_type": "execute_result"
    }
   ],
   "source": [
    "# Overloading----->\n",
    "# 1. operator overloading   ------> +\n",
    "# 2. method overloading\n",
    "\n",
    "\n",
    "\n",
    "a = 1\n",
    "b = 2\n",
    "c = a+b\n",
    "c"
   ]
  },
  {
   "cell_type": "code",
   "execution_count": 28,
   "id": "cfa91c8f",
   "metadata": {},
   "outputs": [
    {
     "name": "stdout",
     "output_type": "stream",
     "text": [
      "12\n"
     ]
    }
   ],
   "source": [
    "a = '1'\n",
    "b = '2'\n",
    "c = a+b\n",
    "print(c)"
   ]
  },
  {
   "cell_type": "code",
   "execution_count": 29,
   "id": "91803506",
   "metadata": {},
   "outputs": [],
   "source": [
    "# try to implement these code in class and object."
   ]
  },
  {
   "cell_type": "code",
   "execution_count": 33,
   "id": "e5d54461",
   "metadata": {},
   "outputs": [
    {
     "data": {
      "text/plain": [
       "3"
      ]
     },
     "execution_count": 33,
     "metadata": {},
     "output_type": "execute_result"
    }
   ],
   "source": [
    "# method overloading......\n",
    "def x(a,b=9):\n",
    "    result = a+b\n",
    "    return result\n",
    "x(1,2)\n",
    "    \n",
    "    "
   ]
  },
  {
   "cell_type": "code",
   "execution_count": 31,
   "id": "8e952b62",
   "metadata": {},
   "outputs": [
    {
     "data": {
      "text/plain": [
       "14"
      ]
     },
     "execution_count": 31,
     "metadata": {},
     "output_type": "execute_result"
    }
   ],
   "source": [
    "x(6,8)"
   ]
  },
  {
   "cell_type": "code",
   "execution_count": 34,
   "id": "e13d0568",
   "metadata": {},
   "outputs": [
    {
     "data": {
      "text/plain": [
       "13"
      ]
     },
     "execution_count": 34,
     "metadata": {},
     "output_type": "execute_result"
    }
   ],
   "source": [
    "x(4)"
   ]
  },
  {
   "cell_type": "markdown",
   "id": "23e14709",
   "metadata": {},
   "source": [
    "# Abstraction"
   ]
  },
  {
   "cell_type": "code",
   "execution_count": 50,
   "id": "40f1b865",
   "metadata": {},
   "outputs": [
    {
     "ename": "TypeError",
     "evalue": "Can't instantiate abstract class a with abstract method info",
     "output_type": "error",
     "traceback": [
      "\u001b[1;31m---------------------------------------------------------------------------\u001b[0m",
      "\u001b[1;31mTypeError\u001b[0m                                 Traceback (most recent call last)",
      "\u001b[1;32m~\\AppData\\Local\\Temp/ipykernel_2848/3690812493.py\u001b[0m in \u001b[0;36m<module>\u001b[1;34m\u001b[0m\n\u001b[0;32m     13\u001b[0m         \u001b[0mprint\u001b[0m\u001b[1;33m(\u001b[0m\u001b[1;34m\"Batman\"\u001b[0m\u001b[1;33m)\u001b[0m\u001b[1;33m\u001b[0m\u001b[1;33m\u001b[0m\u001b[0m\n\u001b[0;32m     14\u001b[0m \u001b[1;33m\u001b[0m\u001b[0m\n\u001b[1;32m---> 15\u001b[1;33m \u001b[0mx\u001b[0m \u001b[1;33m=\u001b[0m \u001b[0ma\u001b[0m\u001b[1;33m(\u001b[0m\u001b[1;33m)\u001b[0m\u001b[1;33m\u001b[0m\u001b[1;33m\u001b[0m\u001b[0m\n\u001b[0m\u001b[0;32m     16\u001b[0m \u001b[0mx\u001b[0m\u001b[1;33m.\u001b[0m\u001b[0minfo\u001b[0m\u001b[1;33m(\u001b[0m\u001b[1;33m)\u001b[0m\u001b[1;33m\u001b[0m\u001b[1;33m\u001b[0m\u001b[0m\n",
      "\u001b[1;31mTypeError\u001b[0m: Can't instantiate abstract class a with abstract method info"
     ]
    }
   ],
   "source": [
    "from abc import ABC,abstractmethod\n",
    "\n",
    "class a(ABC):\n",
    "    @abstractmethod\n",
    "    def info(self):\n",
    "        print(\"hello\")\n",
    "    \n",
    "class b:\n",
    "    def detail(self):\n",
    "        print(\"Hello iron man\")\n",
    "class c(b):\n",
    "    def information(self):\n",
    "        print(\"Batman\")\n",
    "        \n",
    "x = a()\n",
    "x.info()"
   ]
  },
  {
   "cell_type": "code",
   "execution_count": null,
   "id": "2edb601d",
   "metadata": {},
   "outputs": [],
   "source": []
  }
 ],
 "metadata": {
  "kernelspec": {
   "display_name": "Python 3 (ipykernel)",
   "language": "python",
   "name": "python3"
  },
  "language_info": {
   "codemirror_mode": {
    "name": "ipython",
    "version": 3
   },
   "file_extension": ".py",
   "mimetype": "text/x-python",
   "name": "python",
   "nbconvert_exporter": "python",
   "pygments_lexer": "ipython3",
   "version": "3.9.7"
  }
 },
 "nbformat": 4,
 "nbformat_minor": 5
}
