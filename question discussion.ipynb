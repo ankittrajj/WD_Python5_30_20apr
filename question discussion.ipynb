{
 "cells": [
  {
   "cell_type": "code",
   "execution_count": 12,
   "id": "85f10f8e",
   "metadata": {},
   "outputs": [
    {
     "name": "stdout",
     "output_type": "stream",
     "text": [
      "Enter the salary2000\n",
      "Enter the year of service2\n",
      "No bonus!!\n"
     ]
    }
   ],
   "source": [
    "# A company decided to give bonus of 5% to \n",
    "# employee if his/her year of service \n",
    "# is more than 5 years.\n",
    "# Ask user for their salary and year\n",
    "# of service and print the net bonus amount.\n",
    "\n",
    "salary = int(input(\"Enter the salary\"))\n",
    "year_of_service =int(input(\"Enter the year of service\"))\n",
    "\n",
    "if year_of_service>5:\n",
    "    bonus = (salary * 5)/100\n",
    "    print(\"You will get the bonus\",bonus )\n",
    "    \n",
    "else:\n",
    "    print(\"No bonus!!\")\n",
    "    \n",
    "\n",
    "# bonus = (salary * 5)/100\n",
    "# print(bonus)"
   ]
  },
  {
   "cell_type": "code",
   "execution_count": 8,
   "id": "86c11846",
   "metadata": {},
   "outputs": [
    {
     "data": {
      "text/plain": [
       "5"
      ]
     },
     "execution_count": 8,
     "metadata": {},
     "output_type": "execute_result"
    }
   ],
   "source": [
    "a = 10\n",
    "b = 2\n",
    "c = a/b\n",
    "c"
   ]
  },
  {
   "cell_type": "code",
   "execution_count": 9,
   "id": "a14b5997",
   "metadata": {},
   "outputs": [
    {
     "data": {
      "text/plain": [
       "int"
      ]
     },
     "execution_count": 9,
     "metadata": {},
     "output_type": "execute_result"
    }
   ],
   "source": [
    "type(c)"
   ]
  },
  {
   "cell_type": "code",
   "execution_count": 18,
   "id": "1fd4af82",
   "metadata": {},
   "outputs": [
    {
     "name": "stdout",
     "output_type": "stream",
     "text": [
      "Enter the salary1000\n",
      "Enter the yos23\n",
      "bonus amt will be 50.0\n",
      "Total salary will be----> 1050.0\n"
     ]
    }
   ],
   "source": [
    "# A company decided to give bonus of 5% to \n",
    "# employee if his/her year of service \n",
    "# is more than 5 years.\n",
    "\n",
    "# Ask user for their salary and year\n",
    "# of service and print the net bonus amount.\n",
    "# also print the exact amt/total salary received by the user.\n",
    "\n",
    "salary = int(input(\"Enter the salary\"))\n",
    "yos = int(input(\"Enter the yos\"))\n",
    "\n",
    "if yos>5:\n",
    "    bonus = salary * 0.05\n",
    "    total_sal = salary + bonus\n",
    "    print('bonus amt will be',bonus)\n",
    "    print(\"Total salary will be---->\",total_sal)\n",
    "else:\n",
    "    print('no bonus')"
   ]
  },
  {
   "cell_type": "code",
   "execution_count": 22,
   "id": "f4e65d5b",
   "metadata": {},
   "outputs": [
    {
     "name": "stdout",
     "output_type": "stream",
     "text": [
      "Enter the length1.34\n",
      "Enter the breadth1.34\n",
      "SQuare\n"
     ]
    }
   ],
   "source": [
    "# Take values of length and breadth of a \n",
    "# rectangle from user and \n",
    "# check if it is square or not.\n",
    "l = float(input(\"Enter the length\"))\n",
    "b = float(input(\"Enter the breadth\"))\n",
    "if l==b:\n",
    "    print(\"SQuare\")\n",
    "else:\n",
    "    print('Rectangle')"
   ]
  },
  {
   "cell_type": "code",
   "execution_count": 29,
   "id": "0b2e49e3",
   "metadata": {},
   "outputs": [],
   "source": [
    "# Take three int values \n",
    "# from user and print \n",
    "# greatest among them.\n",
    "\n",
    "a=9\n",
    "b=9\n",
    "c=9\n",
    "\n",
    "if a>b and a>c:\n",
    "    print(\"A is greater\")\n",
    "elif b>a and b>c:\n",
    "    print(\"B is greater\")\n",
    "# else:\n",
    "#     print(\"C is greater\")\n",
    "    \n",
    "elif c>a and c>b:\n",
    "    print(\"C is greater\")\n",
    "    \n"
   ]
  },
  {
   "cell_type": "code",
   "execution_count": 31,
   "id": "800772bc",
   "metadata": {},
   "outputs": [
    {
     "name": "stdout",
     "output_type": "stream",
     "text": [
      "Enter the first number1\n",
      "Enter the second number2\n",
      "Enter the third number3\n",
      "third number is greater\n"
     ]
    }
   ],
   "source": [
    "first_number=float(input('Enter the first number'))\n",
    "second_number=float(input('Enter the second number'))\n",
    "third_number=float(input('Enter the third number'))\n",
    "if first_number> second_number and first_number> third_number:\n",
    "    print('first number is greater')\n",
    "elif second_number>first_number and second_number>third_number:\n",
    "    print('second number is greater')\n",
    "elif third_number>first_number and third_number>second_number:\n",
    "    print ('third number is greater')\n",
    "else:\n",
    "    print('all number are equal')"
   ]
  },
  {
   "cell_type": "code",
   "execution_count": null,
   "id": "46c10ffd",
   "metadata": {},
   "outputs": [],
   "source": []
  }
 ],
 "metadata": {
  "kernelspec": {
   "display_name": "Python 3 (ipykernel)",
   "language": "python",
   "name": "python3"
  },
  "language_info": {
   "codemirror_mode": {
    "name": "ipython",
    "version": 3
   },
   "file_extension": ".py",
   "mimetype": "text/x-python",
   "name": "python",
   "nbconvert_exporter": "python",
   "pygments_lexer": "ipython3",
   "version": "3.9.7"
  }
 },
 "nbformat": 4,
 "nbformat_minor": 5
}
