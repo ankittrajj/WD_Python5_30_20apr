{
 "cells": [
  {
   "cell_type": "code",
   "execution_count": 1,
   "id": "d4270da4",
   "metadata": {},
   "outputs": [],
   "source": [
    "# sort\n",
    "# reverse\n",
    "# append\n",
    "\n",
    "a = [42,9,87,44,99,-2,43,43,78,54]\n",
    "a.sort()"
   ]
  },
  {
   "cell_type": "code",
   "execution_count": 2,
   "id": "7134ed7b",
   "metadata": {},
   "outputs": [
    {
     "data": {
      "text/plain": [
       "[-2, 9, 42, 43, 43, 44, 54, 78, 87, 99]"
      ]
     },
     "execution_count": 2,
     "metadata": {},
     "output_type": "execute_result"
    }
   ],
   "source": [
    "a"
   ]
  },
  {
   "cell_type": "code",
   "execution_count": 3,
   "id": "9a22cab0",
   "metadata": {},
   "outputs": [
    {
     "data": {
      "text/plain": [
       "[-2, 9, 42, 43, 43, 44, 54, 78, 87, 99]"
      ]
     },
     "execution_count": 3,
     "metadata": {},
     "output_type": "execute_result"
    }
   ],
   "source": [
    "a"
   ]
  },
  {
   "cell_type": "code",
   "execution_count": 4,
   "id": "f17a2b23",
   "metadata": {},
   "outputs": [],
   "source": [
    "a.sort(reverse = True)"
   ]
  },
  {
   "cell_type": "code",
   "execution_count": 5,
   "id": "3f2ab751",
   "metadata": {},
   "outputs": [
    {
     "data": {
      "text/plain": [
       "[99, 87, 78, 54, 44, 43, 43, 42, 9, -2]"
      ]
     },
     "execution_count": 5,
     "metadata": {},
     "output_type": "execute_result"
    }
   ],
   "source": [
    "a"
   ]
  },
  {
   "cell_type": "code",
   "execution_count": 6,
   "id": "fd2ffc88",
   "metadata": {},
   "outputs": [],
   "source": [
    "a = [42,9,87,44,99,-2,43,43,78,54]\n",
    "a.sort()"
   ]
  },
  {
   "cell_type": "code",
   "execution_count": 7,
   "id": "66909e4a",
   "metadata": {},
   "outputs": [
    {
     "data": {
      "text/plain": [
       "[-2, 9, 42, 43, 43, 44, 54, 78, 87, 99]"
      ]
     },
     "execution_count": 7,
     "metadata": {},
     "output_type": "execute_result"
    }
   ],
   "source": [
    "a"
   ]
  },
  {
   "cell_type": "code",
   "execution_count": 8,
   "id": "be9129e4",
   "metadata": {},
   "outputs": [],
   "source": [
    "a = [42,9,87,44,99,-2,43,43,78,54]\n",
    "a.sort(reverse=True)"
   ]
  },
  {
   "cell_type": "code",
   "execution_count": 9,
   "id": "3d20b16d",
   "metadata": {},
   "outputs": [
    {
     "data": {
      "text/plain": [
       "[99, 87, 78, 54, 44, 43, 43, 42, 9, -2]"
      ]
     },
     "execution_count": 9,
     "metadata": {},
     "output_type": "execute_result"
    }
   ],
   "source": [
    "a"
   ]
  },
  {
   "cell_type": "code",
   "execution_count": 10,
   "id": "b7aebfd5",
   "metadata": {},
   "outputs": [],
   "source": [
    "a = [42,9,87,44,99,-2,43,43,78,54]\n",
    "a.reverse()"
   ]
  },
  {
   "cell_type": "code",
   "execution_count": 11,
   "id": "d2e339d0",
   "metadata": {},
   "outputs": [
    {
     "data": {
      "text/plain": [
       "[54, 78, 43, 43, -2, 99, 44, 87, 9, 42]"
      ]
     },
     "execution_count": 11,
     "metadata": {},
     "output_type": "execute_result"
    }
   ],
   "source": [
    "a"
   ]
  },
  {
   "cell_type": "code",
   "execution_count": 12,
   "id": "4be355e5",
   "metadata": {},
   "outputs": [],
   "source": [
    "# append\n",
    "a = [42,9,87,44,99,-2,43,43,78,54]\n",
    "a.append(0)"
   ]
  },
  {
   "cell_type": "code",
   "execution_count": 13,
   "id": "7fd2cdab",
   "metadata": {},
   "outputs": [
    {
     "data": {
      "text/plain": [
       "[42, 9, 87, 44, 99, -2, 43, 43, 78, 54, 0]"
      ]
     },
     "execution_count": 13,
     "metadata": {},
     "output_type": "execute_result"
    }
   ],
   "source": [
    "a"
   ]
  },
  {
   "cell_type": "code",
   "execution_count": 18,
   "id": "4de5f0d9",
   "metadata": {},
   "outputs": [
    {
     "name": "stdout",
     "output_type": "stream",
     "text": [
      "[8, 8, 8, 8, 8, 8, 8, 8, 8, 8]\n"
     ]
    }
   ],
   "source": [
    "a = [42,9,87,44,99,-2,43,43,78,54]\n",
    "b=[]\n",
    "for i in a:\n",
    "    b.append(8)\n",
    "#     b = a+i\n",
    "print(b)"
   ]
  },
  {
   "cell_type": "markdown",
   "id": "fdec245d",
   "metadata": {},
   "source": [
    "# Tuple"
   ]
  },
  {
   "cell_type": "code",
   "execution_count": 19,
   "id": "fe93b2ca",
   "metadata": {},
   "outputs": [
    {
     "name": "stdout",
     "output_type": "stream",
     "text": [
      "(1, 2, 3, 4, 5, 6, 7, 8, 9, 0)\n"
     ]
    }
   ],
   "source": [
    "# it excatly work like list.\n",
    "\n",
    "a = (1,2,3,4,5,6,7,8,9,0)\n",
    "print(a)\n"
   ]
  },
  {
   "cell_type": "code",
   "execution_count": 20,
   "id": "8f314935",
   "metadata": {},
   "outputs": [
    {
     "data": {
      "text/plain": [
       "tuple"
      ]
     },
     "execution_count": 20,
     "metadata": {},
     "output_type": "execute_result"
    }
   ],
   "source": [
    "type(a)"
   ]
  },
  {
   "cell_type": "code",
   "execution_count": 21,
   "id": "cd5a4232",
   "metadata": {},
   "outputs": [],
   "source": [
    "a = (1,2,3,4,5,6,7,8,9,0,34.5,56.7)"
   ]
  },
  {
   "cell_type": "code",
   "execution_count": 22,
   "id": "fbbb3652",
   "metadata": {},
   "outputs": [
    {
     "name": "stdout",
     "output_type": "stream",
     "text": [
      "(1, 2, 3, 4, 5, 6, 7, 8, 9, 0, 34.5, 56.7)\n"
     ]
    }
   ],
   "source": [
    "print(a)"
   ]
  },
  {
   "cell_type": "code",
   "execution_count": 23,
   "id": "987a7421",
   "metadata": {},
   "outputs": [
    {
     "data": {
      "text/plain": [
       "tuple"
      ]
     },
     "execution_count": 23,
     "metadata": {},
     "output_type": "execute_result"
    }
   ],
   "source": [
    "type(a)"
   ]
  },
  {
   "cell_type": "code",
   "execution_count": 24,
   "id": "5dfdba6b",
   "metadata": {},
   "outputs": [],
   "source": [
    "a = (1,2,3,4,5,6,7,8,9,0,34.5,56.7,\"I\",\"am\",\"python\")"
   ]
  },
  {
   "cell_type": "code",
   "execution_count": 25,
   "id": "0190211a",
   "metadata": {},
   "outputs": [
    {
     "data": {
      "text/plain": [
       "(1, 2, 3, 4, 5, 6, 7, 8, 9, 0, 34.5, 56.7, 'I', 'am', 'python')"
      ]
     },
     "execution_count": 25,
     "metadata": {},
     "output_type": "execute_result"
    }
   ],
   "source": [
    "a"
   ]
  },
  {
   "cell_type": "code",
   "execution_count": 26,
   "id": "7b6712bf",
   "metadata": {},
   "outputs": [
    {
     "data": {
      "text/plain": [
       "tuple"
      ]
     },
     "execution_count": 26,
     "metadata": {},
     "output_type": "execute_result"
    }
   ],
   "source": [
    "type(a)"
   ]
  },
  {
   "cell_type": "code",
   "execution_count": 27,
   "id": "40eee7db",
   "metadata": {},
   "outputs": [
    {
     "data": {
      "text/plain": [
       "(1, 2, 3, 4, 5, 6, 7, 8, 9, 0, 34.5, 56.7, 'I', 'am', 'python')"
      ]
     },
     "execution_count": 27,
     "metadata": {},
     "output_type": "execute_result"
    }
   ],
   "source": [
    "# slicing with indexing\n",
    "a"
   ]
  },
  {
   "cell_type": "code",
   "execution_count": 28,
   "id": "fc394c6c",
   "metadata": {},
   "outputs": [
    {
     "data": {
      "text/plain": [
       "1"
      ]
     },
     "execution_count": 28,
     "metadata": {},
     "output_type": "execute_result"
    }
   ],
   "source": [
    "a[0]"
   ]
  },
  {
   "cell_type": "code",
   "execution_count": null,
   "id": "2418fd29",
   "metadata": {},
   "outputs": [],
   "source": [
    "# wap to find a data from 9-\"I\" with the help of negative slicing."
   ]
  },
  {
   "cell_type": "code",
   "execution_count": 30,
   "id": "c970273f",
   "metadata": {},
   "outputs": [
    {
     "data": {
      "text/plain": [
       "(9, 0, 34.5, 56.7, 'I')"
      ]
     },
     "execution_count": 30,
     "metadata": {},
     "output_type": "execute_result"
    }
   ],
   "source": [
    "a[-7:-2]"
   ]
  },
  {
   "cell_type": "code",
   "execution_count": 31,
   "id": "a62bb7a8",
   "metadata": {},
   "outputs": [
    {
     "data": {
      "text/plain": [
       "()"
      ]
     },
     "execution_count": 31,
     "metadata": {},
     "output_type": "execute_result"
    }
   ],
   "source": [
    "a[-1:-8]"
   ]
  },
  {
   "cell_type": "code",
   "execution_count": 33,
   "id": "991b6129",
   "metadata": {},
   "outputs": [
    {
     "ename": "TypeError",
     "evalue": "'tuple' object does not support item assignment",
     "output_type": "error",
     "traceback": [
      "\u001b[1;31m---------------------------------------------------------------------------\u001b[0m",
      "\u001b[1;31mTypeError\u001b[0m                                 Traceback (most recent call last)",
      "\u001b[1;32m~\\AppData\\Local\\Temp/ipykernel_5280/3855685933.py\u001b[0m in \u001b[0;36m<module>\u001b[1;34m\u001b[0m\n\u001b[0;32m      1\u001b[0m \u001b[1;31m# mutable or not\u001b[0m\u001b[1;33m\u001b[0m\u001b[1;33m\u001b[0m\u001b[0m\n\u001b[0;32m      2\u001b[0m \u001b[1;33m\u001b[0m\u001b[0m\n\u001b[1;32m----> 3\u001b[1;33m \u001b[0ma\u001b[0m\u001b[1;33m[\u001b[0m\u001b[1;36m0\u001b[0m\u001b[1;33m]\u001b[0m\u001b[1;33m=\u001b[0m \u001b[1;36m78\u001b[0m\u001b[1;33m\u001b[0m\u001b[1;33m\u001b[0m\u001b[0m\n\u001b[0m",
      "\u001b[1;31mTypeError\u001b[0m: 'tuple' object does not support item assignment"
     ]
    }
   ],
   "source": [
    "# mutable or not-----\n",
    "# tupple is immutable/unchangeable\n",
    "\n",
    "a[0]= 78"
   ]
  },
  {
   "cell_type": "markdown",
   "id": "dfe5e3d3",
   "metadata": {},
   "source": [
    "## tuple method----> count & index"
   ]
  },
  {
   "cell_type": "code",
   "execution_count": 47,
   "id": "0d07c2db",
   "metadata": {},
   "outputs": [
    {
     "data": {
      "text/plain": [
       "2"
      ]
     },
     "execution_count": 47,
     "metadata": {},
     "output_type": "execute_result"
    }
   ],
   "source": [
    "# count---->\n",
    "a = (1,2,3,0,4,5,6,7,8,9,0,0,34.5,56.7,\"I\",\"am\",\"pythoIn\",\"I\",'False')\n",
    "a.count(\"I\")"
   ]
  },
  {
   "cell_type": "code",
   "execution_count": 49,
   "id": "d9536674",
   "metadata": {},
   "outputs": [
    {
     "data": {
      "text/plain": [
       "13"
      ]
     },
     "execution_count": 49,
     "metadata": {},
     "output_type": "execute_result"
    }
   ],
   "source": [
    "# True ==> 1\n",
    "# false ==> 0\n",
    "\n",
    "\n",
    "# index\n",
    "a.index(56.7)"
   ]
  },
  {
   "cell_type": "code",
   "execution_count": 50,
   "id": "f809134b",
   "metadata": {},
   "outputs": [],
   "source": [
    "# Wap to store 7 fruits items in a list entered by the user.\n",
    "\n",
    "# Wap to display marks of 5 students & display them in sorted way.\n",
    "\n",
    "# check if tuple is mutable or not?\n",
    "\n",
    "#wap to add list of 4 numbers?\n",
    "\n",
    "#wap to count 7 in the tuple\n",
    "# t = (7,77,777,-77,87,97,-7)\n",
    "\n",
    "\n",
    "\n",
    "\n",
    "\n",
    "\n"
   ]
  },
  {
   "cell_type": "code",
   "execution_count": 51,
   "id": "20d4ab83",
   "metadata": {},
   "outputs": [],
   "source": [
    "a = (1,2,3,0,4,5,6,7,[8,9,0,0,34.5,56.7],\"I\",\"am\",\"pythoIn\",\"I\",'False')"
   ]
  },
  {
   "cell_type": "code",
   "execution_count": 52,
   "id": "fdc6db61",
   "metadata": {},
   "outputs": [
    {
     "data": {
      "text/plain": [
       "(1,\n",
       " 2,\n",
       " 3,\n",
       " 0,\n",
       " 4,\n",
       " 5,\n",
       " 6,\n",
       " 7,\n",
       " [8, 9, 0, 0, 34.5, 56.7],\n",
       " 'I',\n",
       " 'am',\n",
       " 'pythoIn',\n",
       " 'I',\n",
       " 'False')"
      ]
     },
     "execution_count": 52,
     "metadata": {},
     "output_type": "execute_result"
    }
   ],
   "source": [
    "a"
   ]
  },
  {
   "cell_type": "code",
   "execution_count": 55,
   "id": "7c09af06",
   "metadata": {},
   "outputs": [],
   "source": [
    "a[8][1]=900"
   ]
  },
  {
   "cell_type": "code",
   "execution_count": 56,
   "id": "ee6950f0",
   "metadata": {},
   "outputs": [
    {
     "data": {
      "text/plain": [
       "(1,\n",
       " 2,\n",
       " 3,\n",
       " 0,\n",
       " 4,\n",
       " 5,\n",
       " 6,\n",
       " 7,\n",
       " [8, 900, 0, 0, 34.5, 56.7],\n",
       " 'I',\n",
       " 'am',\n",
       " 'pythoIn',\n",
       " 'I',\n",
       " 'False')"
      ]
     },
     "execution_count": 56,
     "metadata": {},
     "output_type": "execute_result"
    }
   ],
   "source": [
    "a"
   ]
  },
  {
   "cell_type": "code",
   "execution_count": null,
   "id": "836d9b71",
   "metadata": {},
   "outputs": [],
   "source": []
  }
 ],
 "metadata": {
  "kernelspec": {
   "display_name": "Python 3 (ipykernel)",
   "language": "python",
   "name": "python3"
  },
  "language_info": {
   "codemirror_mode": {
    "name": "ipython",
    "version": 3
   },
   "file_extension": ".py",
   "mimetype": "text/x-python",
   "name": "python",
   "nbconvert_exporter": "python",
   "pygments_lexer": "ipython3",
   "version": "3.9.7"
  }
 },
 "nbformat": 4,
 "nbformat_minor": 5
}
