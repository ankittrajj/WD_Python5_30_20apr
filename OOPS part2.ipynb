{
 "cells": [
  {
   "cell_type": "code",
   "execution_count": 3,
   "id": "94ce00a1",
   "metadata": {},
   "outputs": [
    {
     "data": {
      "text/plain": [
       "3"
      ]
     },
     "execution_count": 3,
     "metadata": {},
     "output_type": "execute_result"
    }
   ],
   "source": [
    "#wap to add two number with the help of class and object using function.\n",
    "\n",
    "class add:\n",
    "    def adding(self,x,y):\n",
    "        result = x+y\n",
    "        return result\n",
    "a = add()\n",
    "a.adding(1,2)"
   ]
  },
  {
   "cell_type": "code",
   "execution_count": 4,
   "id": "493bfa9e",
   "metadata": {},
   "outputs": [],
   "source": [
    "# Constructor------> \n",
    "#wap to make class of emp having name,age & salary with the help of \n",
    "# constructor.\n",
    "\n",
    "\n",
    "class emp:\n",
    "    def __init__(self,name,age,salary):\n",
    "        self.name = name\n",
    "        self.age = age\n",
    "        self.salary = salary\n",
    "        \n",
    "e = emp('A',23,34000)\n",
    "        "
   ]
  },
  {
   "cell_type": "code",
   "execution_count": 5,
   "id": "8882aeda",
   "metadata": {},
   "outputs": [
    {
     "data": {
      "text/plain": [
       "'A'"
      ]
     },
     "execution_count": 5,
     "metadata": {},
     "output_type": "execute_result"
    }
   ],
   "source": [
    "e.name"
   ]
  },
  {
   "cell_type": "code",
   "execution_count": 6,
   "id": "e3d8237c",
   "metadata": {},
   "outputs": [
    {
     "data": {
      "text/plain": [
       "34000"
      ]
     },
     "execution_count": 6,
     "metadata": {},
     "output_type": "execute_result"
    }
   ],
   "source": [
    "e.salary"
   ]
  },
  {
   "cell_type": "code",
   "execution_count": 7,
   "id": "5bb31e4a",
   "metadata": {},
   "outputs": [
    {
     "data": {
      "text/plain": [
       "('A', 23, 34000)"
      ]
     },
     "execution_count": 7,
     "metadata": {},
     "output_type": "execute_result"
    }
   ],
   "source": [
    "e.name,e.age,e.salary"
   ]
  },
  {
   "cell_type": "code",
   "execution_count": 20,
   "id": "93fb6337",
   "metadata": {},
   "outputs": [],
   "source": [
    "#wap and make a class of emp having properties of name , \n",
    "# age & salary and \n",
    "# try to get the ouput of the data with the help of constructor!!\n",
    "# also find the avg salary of the emp.\n",
    "\n",
    "class emp:\n",
    "    def __init__(self,name,age,salary):\n",
    "        self.name = name\n",
    "        self.age = age\n",
    "        self.salary = salary\n",
    "#         print(salary/12)\n",
    "        \n",
    "#     function for avg salary\n",
    "    def avg_sal(self):\n",
    "        sal = self.salary/12\n",
    "        return sal\n",
    "e = emp ('A' ,23,340000)\n"
   ]
  },
  {
   "cell_type": "code",
   "execution_count": 21,
   "id": "5b6ff1b2",
   "metadata": {},
   "outputs": [
    {
     "data": {
      "text/plain": [
       "28333.333333333332"
      ]
     },
     "execution_count": 21,
     "metadata": {},
     "output_type": "execute_result"
    }
   ],
   "source": [
    "e.avg_sal()"
   ]
  },
  {
   "cell_type": "code",
   "execution_count": 22,
   "id": "499c6e9e",
   "metadata": {},
   "outputs": [],
   "source": [
    "# wap to find the speed of the car which cover \n",
    "# a distance of 14km in 20min.Find the speed in km/hr\n",
    "# with the help of constructor.\n",
    "\n",
    "class velocity:\n",
    "    def __init__(self,distance,time):\n",
    "        self.distance=distance\n",
    "        self.time=time/60\n",
    "    def avg_speed (self):\n",
    "        speed=self.distance/self.time\n",
    "        return speed\n",
    "v= velocity (14,20)"
   ]
  },
  {
   "cell_type": "code",
   "execution_count": 23,
   "id": "92e6936e",
   "metadata": {},
   "outputs": [
    {
     "data": {
      "text/plain": [
       "42.0"
      ]
     },
     "execution_count": 23,
     "metadata": {},
     "output_type": "execute_result"
    }
   ],
   "source": [
    "v.avg_speed()"
   ]
  },
  {
   "cell_type": "code",
   "execution_count": 33,
   "id": "cbed05ab",
   "metadata": {},
   "outputs": [],
   "source": [
    "class car:\n",
    "    def __init__(self,dis,time):\n",
    "        self.dis = dis\n",
    "        self.time = time\n",
    "        \n",
    "    def speed(self):\n",
    "        t = self.time/60\n",
    "        s = self.dis/t\n",
    "        return s\n",
    "    \n",
    "c = car(14,20)"
   ]
  },
  {
   "cell_type": "code",
   "execution_count": 34,
   "id": "6cd8c29d",
   "metadata": {},
   "outputs": [
    {
     "data": {
      "text/plain": [
       "42.0"
      ]
     },
     "execution_count": 34,
     "metadata": {},
     "output_type": "execute_result"
    }
   ],
   "source": [
    "c.speed()"
   ]
  },
  {
   "cell_type": "code",
   "execution_count": 57,
   "id": "8c077e21",
   "metadata": {},
   "outputs": [],
   "source": [
    "#wap to make a class of automobile and try to calculate \n",
    "# the price of the\n",
    "# car if the car is of 20 lakh then you have to pay \n",
    "# the tax of 20%,\n",
    "# and the showroom give a discount of 7% on your \n",
    "# purchase,so try to \n",
    "# find the actual cost of the car with the help \n",
    "# of constructor??\n",
    "\n",
    "\n",
    "\n",
    "class auto:\n",
    "    def __init__ (self,price):\n",
    "        self.price = price\n",
    "       \n",
    "        \n",
    "    def discount(self):\n",
    "        d = (self.price*7)/100\n",
    "        ad = self.price - d\n",
    "        print(ad)\n",
    "        \n",
    "    def tax(self):\n",
    "        t = (self.price*20)/100\n",
    "        at = self.price + t\n",
    "        \n",
    "        actual_price = at - ad\n",
    "        print(at)\n",
    "        print(actual_price)\n",
    "        \n",
    "    \n",
    "        \n",
    "a = auto(2000000)"
   ]
  },
  {
   "cell_type": "code",
   "execution_count": 58,
   "id": "6315ca34",
   "metadata": {},
   "outputs": [
    {
     "name": "stdout",
     "output_type": "stream",
     "text": [
      "1860000.0\n"
     ]
    }
   ],
   "source": [
    "a.discount()"
   ]
  },
  {
   "cell_type": "code",
   "execution_count": 59,
   "id": "66df6bd1",
   "metadata": {},
   "outputs": [
    {
     "ename": "NameError",
     "evalue": "name 'ad' is not defined",
     "output_type": "error",
     "traceback": [
      "\u001b[1;31m---------------------------------------------------------------------------\u001b[0m",
      "\u001b[1;31mNameError\u001b[0m                                 Traceback (most recent call last)",
      "\u001b[1;32m~\\AppData\\Local\\Temp/ipykernel_1036/100950756.py\u001b[0m in \u001b[0;36m<module>\u001b[1;34m\u001b[0m\n\u001b[1;32m----> 1\u001b[1;33m \u001b[0ma\u001b[0m\u001b[1;33m.\u001b[0m\u001b[0mtax\u001b[0m\u001b[1;33m(\u001b[0m\u001b[1;33m)\u001b[0m\u001b[1;33m\u001b[0m\u001b[1;33m\u001b[0m\u001b[0m\n\u001b[0m",
      "\u001b[1;32m~\\AppData\\Local\\Temp/ipykernel_1036/1565076323.py\u001b[0m in \u001b[0;36mtax\u001b[1;34m(self)\u001b[0m\n\u001b[0;32m     24\u001b[0m         \u001b[0mat\u001b[0m \u001b[1;33m=\u001b[0m \u001b[0mself\u001b[0m\u001b[1;33m.\u001b[0m\u001b[0mprice\u001b[0m \u001b[1;33m+\u001b[0m \u001b[0mt\u001b[0m\u001b[1;33m\u001b[0m\u001b[1;33m\u001b[0m\u001b[0m\n\u001b[0;32m     25\u001b[0m \u001b[1;33m\u001b[0m\u001b[0m\n\u001b[1;32m---> 26\u001b[1;33m         \u001b[0mactual_price\u001b[0m \u001b[1;33m=\u001b[0m \u001b[0mat\u001b[0m \u001b[1;33m-\u001b[0m \u001b[0mad\u001b[0m\u001b[1;33m\u001b[0m\u001b[1;33m\u001b[0m\u001b[0m\n\u001b[0m\u001b[0;32m     27\u001b[0m         \u001b[0mprint\u001b[0m\u001b[1;33m(\u001b[0m\u001b[0mat\u001b[0m\u001b[1;33m)\u001b[0m\u001b[1;33m\u001b[0m\u001b[1;33m\u001b[0m\u001b[0m\n\u001b[0;32m     28\u001b[0m         \u001b[0mprint\u001b[0m\u001b[1;33m(\u001b[0m\u001b[0mactual_price\u001b[0m\u001b[1;33m)\u001b[0m\u001b[1;33m\u001b[0m\u001b[1;33m\u001b[0m\u001b[0m\n",
      "\u001b[1;31mNameError\u001b[0m: name 'ad' is not defined"
     ]
    }
   ],
   "source": [
    "a.tax()"
   ]
  },
  {
   "cell_type": "code",
   "execution_count": 56,
   "id": "f0782b06",
   "metadata": {},
   "outputs": [
    {
     "ename": "AttributeError",
     "evalue": "'auto' object has no attribute 'at'",
     "output_type": "error",
     "traceback": [
      "\u001b[1;31m---------------------------------------------------------------------------\u001b[0m",
      "\u001b[1;31mAttributeError\u001b[0m                            Traceback (most recent call last)",
      "\u001b[1;32m~\\AppData\\Local\\Temp/ipykernel_1036/933724174.py\u001b[0m in \u001b[0;36m<module>\u001b[1;34m\u001b[0m\n\u001b[1;32m----> 1\u001b[1;33m \u001b[0ma\u001b[0m\u001b[1;33m.\u001b[0m\u001b[0mactual_price\u001b[0m\u001b[1;33m(\u001b[0m\u001b[1;33m)\u001b[0m\u001b[1;33m\u001b[0m\u001b[1;33m\u001b[0m\u001b[0m\n\u001b[0m",
      "\u001b[1;32m~\\AppData\\Local\\Temp/ipykernel_1036/3084965504.py\u001b[0m in \u001b[0;36mactual_price\u001b[1;34m(self)\u001b[0m\n\u001b[0;32m     26\u001b[0m \u001b[1;33m\u001b[0m\u001b[0m\n\u001b[0;32m     27\u001b[0m     \u001b[1;32mdef\u001b[0m \u001b[0mactual_price\u001b[0m\u001b[1;33m(\u001b[0m\u001b[0mself\u001b[0m\u001b[1;33m)\u001b[0m\u001b[1;33m:\u001b[0m\u001b[1;33m\u001b[0m\u001b[1;33m\u001b[0m\u001b[0m\n\u001b[1;32m---> 28\u001b[1;33m         \u001b[0map\u001b[0m \u001b[1;33m=\u001b[0m \u001b[0mself\u001b[0m\u001b[1;33m.\u001b[0m\u001b[0mat\u001b[0m \u001b[1;33m-\u001b[0m \u001b[0mad\u001b[0m\u001b[1;33m\u001b[0m\u001b[1;33m\u001b[0m\u001b[0m\n\u001b[0m\u001b[0;32m     29\u001b[0m         \u001b[0mprint\u001b[0m\u001b[1;33m(\u001b[0m\u001b[0map\u001b[0m\u001b[1;33m)\u001b[0m\u001b[1;33m\u001b[0m\u001b[1;33m\u001b[0m\u001b[0m\n\u001b[0;32m     30\u001b[0m \u001b[1;33m\u001b[0m\u001b[0m\n",
      "\u001b[1;31mAttributeError\u001b[0m: 'auto' object has no attribute 'at'"
     ]
    }
   ],
   "source": [
    "a.actual_price()"
   ]
  },
  {
   "cell_type": "code",
   "execution_count": 60,
   "id": "cd43e2c8",
   "metadata": {},
   "outputs": [
    {
     "data": {
      "text/plain": [
       "540000"
      ]
     },
     "execution_count": 60,
     "metadata": {},
     "output_type": "execute_result"
    }
   ],
   "source": [
    "2400000 - 1860000"
   ]
  },
  {
   "cell_type": "code",
   "execution_count": 61,
   "id": "d1a147a0",
   "metadata": {},
   "outputs": [
    {
     "data": {
      "text/plain": [
       "260000.0"
      ]
     },
     "execution_count": 61,
     "metadata": {},
     "output_type": "execute_result"
    }
   ],
   "source": [
    "(2000000*13)/100"
   ]
  },
  {
   "cell_type": "code",
   "execution_count": null,
   "id": "3466c046",
   "metadata": {},
   "outputs": [],
   "source": []
  }
 ],
 "metadata": {
  "kernelspec": {
   "display_name": "Python 3 (ipykernel)",
   "language": "python",
   "name": "python3"
  },
  "language_info": {
   "codemirror_mode": {
    "name": "ipython",
    "version": 3
   },
   "file_extension": ".py",
   "mimetype": "text/x-python",
   "name": "python",
   "nbconvert_exporter": "python",
   "pygments_lexer": "ipython3",
   "version": "3.9.7"
  }
 },
 "nbformat": 4,
 "nbformat_minor": 5
}
