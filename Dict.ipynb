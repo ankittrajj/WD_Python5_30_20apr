{
 "cells": [
  {
   "cell_type": "code",
   "execution_count": 3,
   "id": "e2a1966a",
   "metadata": {},
   "outputs": [
    {
     "name": "stdout",
     "output_type": "stream",
     "text": [
      "{'name': 'Banti bhai'}\n"
     ]
    }
   ],
   "source": [
    "x = {\n",
    "    'name':'Banti bhai'\n",
    "}\n",
    "\n",
    "print(my_dict)"
   ]
  },
  {
   "cell_type": "code",
   "execution_count": 2,
   "id": "ef83eb31",
   "metadata": {},
   "outputs": [
    {
     "data": {
      "text/plain": [
       "dict"
      ]
     },
     "execution_count": 2,
     "metadata": {},
     "output_type": "execute_result"
    }
   ],
   "source": [
    "type(my_dict)"
   ]
  },
  {
   "cell_type": "code",
   "execution_count": 4,
   "id": "f0c7810c",
   "metadata": {},
   "outputs": [
    {
     "data": {
      "text/plain": [
       "{'name': 'Banti bhai', 'age': 45, 'marks': 90}"
      ]
     },
     "execution_count": 4,
     "metadata": {},
     "output_type": "execute_result"
    }
   ],
   "source": [
    "my_dict = {\n",
    "    'name':'Banti bhai',\n",
    "    'age':45,\n",
    "    'marks':90\n",
    "}\n",
    "my_dict"
   ]
  },
  {
   "cell_type": "code",
   "execution_count": null,
   "id": "0aff37ec",
   "metadata": {},
   "outputs": [],
   "source": [
    "#wap to make a dict of emp."
   ]
  },
  {
   "cell_type": "code",
   "execution_count": 11,
   "id": "45d5a2da",
   "metadata": {},
   "outputs": [
    {
     "data": {
      "text/plain": [
       "{'name': ['Banti bhai', 'A', 'B'], 'age': (45, 89, 67), 'salary': [90, 89, 45]}"
      ]
     },
     "execution_count": 11,
     "metadata": {},
     "output_type": "execute_result"
    }
   ],
   "source": [
    "emp = {\n",
    "    'name':['Banti bhai','A',\"B\"],\n",
    "    'age':(45,89,67),\n",
    "    'salary':[90,89,45]\n",
    "}\n",
    "emp"
   ]
  },
  {
   "cell_type": "code",
   "execution_count": 19,
   "id": "f1fe2d0c",
   "metadata": {},
   "outputs": [
    {
     "data": {
      "text/plain": [
       "{'name': ['Banti bhai', 'A', 'B', 'C'], 'age': 45, 'marks': 90}"
      ]
     },
     "execution_count": 19,
     "metadata": {},
     "output_type": "execute_result"
    }
   ],
   "source": [
    "my_dict = {\n",
    "    'name':['Banti bhai','A','B','C'],\n",
    "    'age':45,\n",
    "    'marks':90\n",
    "}\n",
    "my_dict\n",
    "\n"
   ]
  },
  {
   "cell_type": "code",
   "execution_count": 22,
   "id": "997e7318",
   "metadata": {},
   "outputs": [],
   "source": [
    "# indexing slicing---->\n",
    "# no index in dict\n",
    "# no slicing\n",
    "\n",
    "my_dict['name'][3]=89"
   ]
  },
  {
   "cell_type": "code",
   "execution_count": 23,
   "id": "f38de97f",
   "metadata": {},
   "outputs": [
    {
     "data": {
      "text/plain": [
       "{'name': ['Banti bhai', 'A', 'B', 89], 'age': 45, 'marks': 90}"
      ]
     },
     "execution_count": 23,
     "metadata": {},
     "output_type": "execute_result"
    }
   ],
   "source": [
    "my_dict"
   ]
  },
  {
   "cell_type": "code",
   "execution_count": null,
   "id": "bce9df3d",
   "metadata": {},
   "outputs": [],
   "source": []
  }
 ],
 "metadata": {
  "kernelspec": {
   "display_name": "Python 3 (ipykernel)",
   "language": "python",
   "name": "python3"
  },
  "language_info": {
   "codemirror_mode": {
    "name": "ipython",
    "version": 3
   },
   "file_extension": ".py",
   "mimetype": "text/x-python",
   "name": "python",
   "nbconvert_exporter": "python",
   "pygments_lexer": "ipython3",
   "version": "3.9.7"
  }
 },
 "nbformat": 4,
 "nbformat_minor": 5
}
