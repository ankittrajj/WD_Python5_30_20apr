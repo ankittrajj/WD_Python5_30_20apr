{
 "cells": [
  {
   "cell_type": "code",
   "execution_count": 17,
   "id": "72e7ecc0",
   "metadata": {},
   "outputs": [],
   "source": [
    "x = {\n",
    "    'name':['X','Y','Z'],\n",
    "    'age': (45,89,56),\n",
    "    'salary':20000,\n",
    "    'id':1\n",
    "}"
   ]
  },
  {
   "cell_type": "code",
   "execution_count": 6,
   "id": "ba957aa7",
   "metadata": {},
   "outputs": [],
   "source": [
    "data_from_dict = x['name']"
   ]
  },
  {
   "cell_type": "code",
   "execution_count": 8,
   "id": "15739c2d",
   "metadata": {},
   "outputs": [
    {
     "data": {
      "text/plain": [
       "'Y'"
      ]
     },
     "execution_count": 8,
     "metadata": {},
     "output_type": "execute_result"
    }
   ],
   "source": [
    "data_from_dict[1]"
   ]
  },
  {
   "cell_type": "code",
   "execution_count": 10,
   "id": "0f152c78",
   "metadata": {},
   "outputs": [
    {
     "data": {
      "text/plain": [
       "'Z'"
      ]
     },
     "execution_count": 10,
     "metadata": {},
     "output_type": "execute_result"
    }
   ],
   "source": [
    "x['name'][-1]"
   ]
  },
  {
   "cell_type": "code",
   "execution_count": 11,
   "id": "ab7a8387",
   "metadata": {},
   "outputs": [
    {
     "data": {
      "text/plain": [
       "'Z'"
      ]
     },
     "execution_count": 11,
     "metadata": {},
     "output_type": "execute_result"
    }
   ],
   "source": [
    "x['name'][2]"
   ]
  },
  {
   "cell_type": "code",
   "execution_count": 18,
   "id": "a8934beb",
   "metadata": {},
   "outputs": [
    {
     "data": {
      "text/plain": [
       "(45, 89, 56)"
      ]
     },
     "execution_count": 18,
     "metadata": {},
     "output_type": "execute_result"
    }
   ],
   "source": [
    "x['age']"
   ]
  },
  {
   "cell_type": "code",
   "execution_count": 19,
   "id": "7c90096d",
   "metadata": {},
   "outputs": [
    {
     "data": {
      "text/plain": [
       "89"
      ]
     },
     "execution_count": 19,
     "metadata": {},
     "output_type": "execute_result"
    }
   ],
   "source": [
    "x['age'][1]"
   ]
  },
  {
   "cell_type": "code",
   "execution_count": 35,
   "id": "32a13a3a",
   "metadata": {},
   "outputs": [
    {
     "data": {
      "text/plain": [
       "{'name': ['X', 'Y', 'Z'],\n",
       " 'age': (45, 89, 56),\n",
       " 'salary': 20000,\n",
       " 'id': 1,\n",
       " 'a': {'rank': 'senior', 'address': ['Noida', 'Delhi', 'Goa']}}"
      ]
     },
     "execution_count": 35,
     "metadata": {},
     "output_type": "execute_result"
    }
   ],
   "source": [
    "x = {\n",
    "    'name':['X','Y','Z'],\n",
    "    'age': (45,89,56),\n",
    "    'salary':20000,\n",
    "    'id':1,\n",
    "    \n",
    "     'a': {\n",
    "        'rank':'senior',\n",
    "        'address': ['Noida','Delhi','Goa']\n",
    "    }\n",
    "    \n",
    "    \n",
    "}\n",
    "x"
   ]
  },
  {
   "cell_type": "code",
   "execution_count": 37,
   "id": "6051f8ae",
   "metadata": {},
   "outputs": [
    {
     "data": {
      "text/plain": [
       "'Delhi'"
      ]
     },
     "execution_count": 37,
     "metadata": {},
     "output_type": "execute_result"
    }
   ],
   "source": [
    "x['a']['address'][1]"
   ]
  },
  {
   "cell_type": "code",
   "execution_count": 48,
   "id": "f8c0c018",
   "metadata": {},
   "outputs": [
    {
     "data": {
      "text/plain": [
       "{'name': ['X', 'Y', 'Z'],\n",
       " 'age': (45, 89, 56),\n",
       " 'salary': 20000,\n",
       " 'id': 1,\n",
       " 0: 2,\n",
       " '1': 'hari bhai',\n",
       " 1: 'Rana',\n",
       " 'a': {'rank': 'senior', 'address': ['Noida', 'Delhi', 'Goa']}}"
      ]
     },
     "execution_count": 48,
     "metadata": {},
     "output_type": "execute_result"
    }
   ],
   "source": [
    "x = {\n",
    "    'name':['X','Y','Z'],\n",
    "    'age': (45,89,56),\n",
    "    'salary':20000,\n",
    "    'id':1,\n",
    "    0:2,\n",
    "    '1':'hari bhai',\n",
    "    1:'Rana',\n",
    "    \n",
    "    \n",
    "     'a': {\n",
    "        'rank':'senior',\n",
    "        'address': ['Noida','Delhi','Goa']\n",
    "    }\n",
    "    \n",
    "    \n",
    "}\n",
    "x"
   ]
  },
  {
   "cell_type": "code",
   "execution_count": 39,
   "id": "5fcb1114",
   "metadata": {},
   "outputs": [
    {
     "data": {
      "text/plain": [
       "2"
      ]
     },
     "execution_count": 39,
     "metadata": {},
     "output_type": "execute_result"
    }
   ],
   "source": [
    "x[0]"
   ]
  },
  {
   "cell_type": "code",
   "execution_count": 42,
   "id": "9731de29",
   "metadata": {},
   "outputs": [
    {
     "data": {
      "text/plain": [
       "'hari bhai'"
      ]
     },
     "execution_count": 42,
     "metadata": {},
     "output_type": "execute_result"
    }
   ],
   "source": [
    "x['1']"
   ]
  },
  {
   "cell_type": "code",
   "execution_count": 46,
   "id": "9cfcf8f5",
   "metadata": {},
   "outputs": [
    {
     "data": {
      "text/plain": [
       "'Rana'"
      ]
     },
     "execution_count": 46,
     "metadata": {},
     "output_type": "execute_result"
    }
   ],
   "source": [
    "x[1]"
   ]
  },
  {
   "cell_type": "code",
   "execution_count": 52,
   "id": "fab5eb88",
   "metadata": {},
   "outputs": [
    {
     "data": {
      "text/plain": [
       "'Goa'"
      ]
     },
     "execution_count": 52,
     "metadata": {},
     "output_type": "execute_result"
    }
   ],
   "source": [
    "x['a']['address'][2]"
   ]
  },
  {
   "cell_type": "code",
   "execution_count": 61,
   "id": "04e25ce8",
   "metadata": {},
   "outputs": [
    {
     "data": {
      "text/plain": [
       "{'name': 'A',\n",
       " 'age': 34,\n",
       " 'add': 'Delhi',\n",
       " 'emp': {'name': 'A', 'salary': 2, 'holidays': 12, 'add': 'Delhi'}}"
      ]
     },
     "execution_count": 61,
     "metadata": {},
     "output_type": "execute_result"
    }
   ],
   "source": [
    "#wap and a dict of student & emp and try to fetch the common data.\n",
    "s = {\n",
    "    'name':'A',\n",
    "    'age':34,\n",
    "    'add': 'Delhi',\n",
    "    \n",
    "    'emp':{\n",
    "        'name':'A',\n",
    "        'salary':2,\n",
    "        'holidays':12,\n",
    "        'add':'Delhi'\n",
    "    }\n",
    "}\n",
    "s"
   ]
  },
  {
   "cell_type": "code",
   "execution_count": 55,
   "id": "86cb7c7f",
   "metadata": {},
   "outputs": [
    {
     "data": {
      "text/plain": [
       "'A'"
      ]
     },
     "execution_count": 55,
     "metadata": {},
     "output_type": "execute_result"
    }
   ],
   "source": [
    "s['emp']['name']"
   ]
  },
  {
   "cell_type": "code",
   "execution_count": 56,
   "id": "bbafce1a",
   "metadata": {},
   "outputs": [
    {
     "data": {
      "text/plain": [
       "'Delhi'"
      ]
     },
     "execution_count": 56,
     "metadata": {},
     "output_type": "execute_result"
    }
   ],
   "source": [
    "s['add']"
   ]
  },
  {
   "cell_type": "code",
   "execution_count": 63,
   "id": "7702ac79",
   "metadata": {},
   "outputs": [
    {
     "data": {
      "text/plain": [
       "'Delhi'"
      ]
     },
     "execution_count": 63,
     "metadata": {},
     "output_type": "execute_result"
    }
   ],
   "source": [
    "s['emp']['add']"
   ]
  },
  {
   "cell_type": "markdown",
   "id": "804ffb50",
   "metadata": {},
   "source": [
    "# Dict method"
   ]
  },
  {
   "cell_type": "code",
   "execution_count": 77,
   "id": "c5522d0d",
   "metadata": {},
   "outputs": [],
   "source": [
    "# copy\n",
    "# clear\n",
    "# pop\n",
    "# items\n",
    "# values\n",
    "# keys\n",
    "s = {\n",
    "    'name':'A',\n",
    "    'age':34,\n",
    "    'add': 'Delhi',\n",
    "    \n",
    "    'emp':{\n",
    "        'name':'A',\n",
    "        'salary':2,\n",
    "        'holidays':12,\n",
    "        'add':'Delhi'\n",
    "    }\n",
    "}"
   ]
  },
  {
   "cell_type": "code",
   "execution_count": 65,
   "id": "d66fca08",
   "metadata": {},
   "outputs": [
    {
     "data": {
      "text/plain": [
       "{'name': 'A',\n",
       " 'age': 34,\n",
       " 'add': 'Delhi',\n",
       " 'emp': {'name': 'A', 'salary': 2, 'holidays': 12, 'add': 'Delhi'}}"
      ]
     },
     "execution_count": 65,
     "metadata": {},
     "output_type": "execute_result"
    }
   ],
   "source": [
    "s"
   ]
  },
  {
   "cell_type": "code",
   "execution_count": 67,
   "id": "68ec8f34",
   "metadata": {},
   "outputs": [],
   "source": [
    "copy_data = s.copy()"
   ]
  },
  {
   "cell_type": "code",
   "execution_count": 68,
   "id": "55531ef6",
   "metadata": {},
   "outputs": [
    {
     "data": {
      "text/plain": [
       "{'name': 'A',\n",
       " 'age': 34,\n",
       " 'add': 'Delhi',\n",
       " 'emp': {'name': 'A', 'salary': 2, 'holidays': 12, 'add': 'Delhi'}}"
      ]
     },
     "execution_count": 68,
     "metadata": {},
     "output_type": "execute_result"
    }
   ],
   "source": [
    "copy_data"
   ]
  },
  {
   "cell_type": "code",
   "execution_count": 69,
   "id": "e9d4dcc1",
   "metadata": {},
   "outputs": [
    {
     "data": {
      "text/plain": [
       "{'name': 'A',\n",
       " 'age': 34,\n",
       " 'add': 'Delhi',\n",
       " 'emp': {'name': 'A', 'salary': 2, 'holidays': 12, 'add': 'Delhi'}}"
      ]
     },
     "execution_count": 69,
     "metadata": {},
     "output_type": "execute_result"
    }
   ],
   "source": [
    "s"
   ]
  },
  {
   "cell_type": "code",
   "execution_count": 70,
   "id": "fc7e05e7",
   "metadata": {},
   "outputs": [
    {
     "data": {
      "text/plain": [
       "{'name': 'A',\n",
       " 'age': 34,\n",
       " 'add': 'Delhi',\n",
       " 'emp': {'name': 'A', 'salary': 2, 'holidays': 12, 'add': 'Delhi'}}"
      ]
     },
     "execution_count": 70,
     "metadata": {},
     "output_type": "execute_result"
    }
   ],
   "source": [
    "copy_data "
   ]
  },
  {
   "cell_type": "code",
   "execution_count": 71,
   "id": "25f1697d",
   "metadata": {},
   "outputs": [],
   "source": [
    "a = {\n",
    "    'name':'hello'\n",
    "}"
   ]
  },
  {
   "cell_type": "code",
   "execution_count": 72,
   "id": "3a2a8308",
   "metadata": {},
   "outputs": [],
   "source": [
    "x = a"
   ]
  },
  {
   "cell_type": "code",
   "execution_count": 73,
   "id": "bf7818ff",
   "metadata": {},
   "outputs": [
    {
     "data": {
      "text/plain": [
       "{'name': 'hello'}"
      ]
     },
     "execution_count": 73,
     "metadata": {},
     "output_type": "execute_result"
    }
   ],
   "source": [
    "x"
   ]
  },
  {
   "cell_type": "code",
   "execution_count": 74,
   "id": "0693473e",
   "metadata": {},
   "outputs": [
    {
     "data": {
      "text/plain": [
       "{'name': 'hello'}"
      ]
     },
     "execution_count": 74,
     "metadata": {},
     "output_type": "execute_result"
    }
   ],
   "source": [
    "a"
   ]
  },
  {
   "cell_type": "code",
   "execution_count": 75,
   "id": "093b17ca",
   "metadata": {},
   "outputs": [],
   "source": [
    "a.clear()"
   ]
  },
  {
   "cell_type": "code",
   "execution_count": 76,
   "id": "4f8d5bed",
   "metadata": {},
   "outputs": [
    {
     "data": {
      "text/plain": [
       "{}"
      ]
     },
     "execution_count": 76,
     "metadata": {},
     "output_type": "execute_result"
    }
   ],
   "source": [
    "a"
   ]
  },
  {
   "cell_type": "code",
   "execution_count": 78,
   "id": "d467263f",
   "metadata": {},
   "outputs": [
    {
     "data": {
      "text/plain": [
       "{'name': 'A',\n",
       " 'age': 34,\n",
       " 'add': 'Delhi',\n",
       " 'emp': {'name': 'A', 'salary': 2, 'holidays': 12, 'add': 'Delhi'}}"
      ]
     },
     "execution_count": 78,
     "metadata": {},
     "output_type": "execute_result"
    }
   ],
   "source": [
    "s"
   ]
  },
  {
   "cell_type": "code",
   "execution_count": 81,
   "id": "a4f057c7",
   "metadata": {},
   "outputs": [
    {
     "data": {
      "text/plain": [
       "34"
      ]
     },
     "execution_count": 81,
     "metadata": {},
     "output_type": "execute_result"
    }
   ],
   "source": [
    "s.pop('age')"
   ]
  },
  {
   "cell_type": "code",
   "execution_count": 82,
   "id": "4c4a6042",
   "metadata": {},
   "outputs": [
    {
     "data": {
      "text/plain": [
       "{'name': 'A',\n",
       " 'add': 'Delhi',\n",
       " 'emp': {'name': 'A', 'salary': 2, 'holidays': 12, 'add': 'Delhi'}}"
      ]
     },
     "execution_count": 82,
     "metadata": {},
     "output_type": "execute_result"
    }
   ],
   "source": [
    "s"
   ]
  },
  {
   "cell_type": "code",
   "execution_count": 86,
   "id": "35c8d077",
   "metadata": {},
   "outputs": [
    {
     "data": {
      "text/plain": [
       "'Delhi'"
      ]
     },
     "execution_count": 86,
     "metadata": {},
     "output_type": "execute_result"
    }
   ],
   "source": [
    "s.pop('add')"
   ]
  },
  {
   "cell_type": "code",
   "execution_count": 87,
   "id": "13d70b94",
   "metadata": {},
   "outputs": [
    {
     "data": {
      "text/plain": [
       "{'name': 'A',\n",
       " 'emp': {'name': 'A', 'salary': 2, 'holidays': 12, 'add': 'Delhi'}}"
      ]
     },
     "execution_count": 87,
     "metadata": {},
     "output_type": "execute_result"
    }
   ],
   "source": [
    "s"
   ]
  },
  {
   "cell_type": "code",
   "execution_count": 88,
   "id": "803b4889",
   "metadata": {},
   "outputs": [
    {
     "data": {
      "text/plain": [
       "2"
      ]
     },
     "execution_count": 88,
     "metadata": {},
     "output_type": "execute_result"
    }
   ],
   "source": [
    "s['emp'].pop('salary')"
   ]
  },
  {
   "cell_type": "code",
   "execution_count": 89,
   "id": "c6796910",
   "metadata": {},
   "outputs": [
    {
     "data": {
      "text/plain": [
       "{'name': 'A', 'emp': {'name': 'A', 'holidays': 12, 'add': 'Delhi'}}"
      ]
     },
     "execution_count": 89,
     "metadata": {},
     "output_type": "execute_result"
    }
   ],
   "source": [
    "s"
   ]
  },
  {
   "cell_type": "code",
   "execution_count": 97,
   "id": "a47c1012",
   "metadata": {},
   "outputs": [],
   "source": [
    "# keys\n",
    "s = {\n",
    "    'name':'A',\n",
    "    'age':34,\n",
    "    'add': 'Delhi',\n",
    "    \n",
    "    'emp':{\n",
    "        'name':'A',\n",
    "        'salary':2,\n",
    "        'holidays':12,\n",
    "        'add':'Delhi'\n",
    "    }\n",
    "}"
   ]
  },
  {
   "cell_type": "code",
   "execution_count": 91,
   "id": "674de9de",
   "metadata": {},
   "outputs": [
    {
     "data": {
      "text/plain": [
       "{'name': 'A',\n",
       " 'age': 34,\n",
       " 'add': 'Delhi',\n",
       " 'emp': {'name': 'A', 'salary': 2, 'holidays': 12, 'add': 'Delhi'}}"
      ]
     },
     "execution_count": 91,
     "metadata": {},
     "output_type": "execute_result"
    }
   ],
   "source": [
    "s"
   ]
  },
  {
   "cell_type": "code",
   "execution_count": 92,
   "id": "43bf8603",
   "metadata": {},
   "outputs": [
    {
     "data": {
      "text/plain": [
       "dict_keys(['name', 'age', 'add', 'emp'])"
      ]
     },
     "execution_count": 92,
     "metadata": {},
     "output_type": "execute_result"
    }
   ],
   "source": [
    "s.keys()"
   ]
  },
  {
   "cell_type": "code",
   "execution_count": 93,
   "id": "01768760",
   "metadata": {},
   "outputs": [
    {
     "data": {
      "text/plain": [
       "dict_keys(['name', 'salary', 'holidays', 'add'])"
      ]
     },
     "execution_count": 93,
     "metadata": {},
     "output_type": "execute_result"
    }
   ],
   "source": [
    "s['emp'].keys()"
   ]
  },
  {
   "cell_type": "code",
   "execution_count": 95,
   "id": "7c8f1d52",
   "metadata": {},
   "outputs": [
    {
     "data": {
      "text/plain": [
       "dict_keys(['name', 'age', 'add'])"
      ]
     },
     "execution_count": 95,
     "metadata": {},
     "output_type": "execute_result"
    }
   ],
   "source": [
    "s.keys()"
   ]
  },
  {
   "cell_type": "code",
   "execution_count": 99,
   "id": "c74951be",
   "metadata": {},
   "outputs": [
    {
     "data": {
      "text/plain": [
       "dict_keys(['name', 'salary', 'holidays', 'add'])"
      ]
     },
     "execution_count": 99,
     "metadata": {},
     "output_type": "execute_result"
    }
   ],
   "source": [
    "s['emp'].keys()"
   ]
  },
  {
   "cell_type": "code",
   "execution_count": 100,
   "id": "15ea72e0",
   "metadata": {},
   "outputs": [
    {
     "data": {
      "text/plain": [
       "dict_values(['A', 34, 'Delhi', {'name': 'A', 'salary': 2, 'holidays': 12, 'add': 'Delhi'}])"
      ]
     },
     "execution_count": 100,
     "metadata": {},
     "output_type": "execute_result"
    }
   ],
   "source": [
    "# values\n",
    "s.values()"
   ]
  },
  {
   "cell_type": "code",
   "execution_count": 102,
   "id": "d87d5e09",
   "metadata": {},
   "outputs": [
    {
     "data": {
      "text/plain": [
       "dict_values(['A', 2, 12, 'Delhi'])"
      ]
     },
     "execution_count": 102,
     "metadata": {},
     "output_type": "execute_result"
    }
   ],
   "source": [
    "s['emp'].values()"
   ]
  },
  {
   "cell_type": "code",
   "execution_count": 107,
   "id": "f33b5a15",
   "metadata": {},
   "outputs": [],
   "source": [
    "x = {\n",
    "    \"bhai1\":\"muje smj ni aareha hai bhai\",\n",
    "    \"bhai2\": \"muje sab smjh aagya mai expert hu\",\n",
    "    \n",
    "    \"y\":{\n",
    "        'x':'kya haal hai bhai!!'\n",
    "    }\n",
    "}"
   ]
  },
  {
   "cell_type": "code",
   "execution_count": 104,
   "id": "f3d45f14",
   "metadata": {},
   "outputs": [
    {
     "data": {
      "text/plain": [
       "{'bhai1': 'muje smj ni aareha hai bhai',\n",
       " 'bhai2': 'muje sab smjh aagya mai expert hu'}"
      ]
     },
     "execution_count": 104,
     "metadata": {},
     "output_type": "execute_result"
    }
   ],
   "source": [
    "x"
   ]
  },
  {
   "cell_type": "code",
   "execution_count": 105,
   "id": "5fd1688f",
   "metadata": {},
   "outputs": [
    {
     "data": {
      "text/plain": [
       "dict_keys(['bhai1', 'bhai2'])"
      ]
     },
     "execution_count": 105,
     "metadata": {},
     "output_type": "execute_result"
    }
   ],
   "source": [
    "# keys\n",
    "x.keys()"
   ]
  },
  {
   "cell_type": "code",
   "execution_count": 108,
   "id": "280cdff1",
   "metadata": {},
   "outputs": [
    {
     "data": {
      "text/plain": [
       "dict_keys(['bhai1', 'bhai2', 'y'])"
      ]
     },
     "execution_count": 108,
     "metadata": {},
     "output_type": "execute_result"
    }
   ],
   "source": [
    "x.keys()"
   ]
  },
  {
   "cell_type": "code",
   "execution_count": 109,
   "id": "bef92989",
   "metadata": {},
   "outputs": [
    {
     "data": {
      "text/plain": [
       "dict_values(['muje smj ni aareha hai bhai', 'muje sab smjh aagya mai expert hu', {'x': 'kya haal hai bhai!!'}])"
      ]
     },
     "execution_count": 109,
     "metadata": {},
     "output_type": "execute_result"
    }
   ],
   "source": [
    "x.values()"
   ]
  },
  {
   "cell_type": "code",
   "execution_count": 111,
   "id": "eb5172df",
   "metadata": {},
   "outputs": [
    {
     "data": {
      "text/plain": [
       "dict_keys(['x'])"
      ]
     },
     "execution_count": 111,
     "metadata": {},
     "output_type": "execute_result"
    }
   ],
   "source": [
    "x['y'].keys()"
   ]
  },
  {
   "cell_type": "code",
   "execution_count": 112,
   "id": "efb457ca",
   "metadata": {},
   "outputs": [
    {
     "data": {
      "text/plain": [
       "dict_values(['kya haal hai bhai!!'])"
      ]
     },
     "execution_count": 112,
     "metadata": {},
     "output_type": "execute_result"
    }
   ],
   "source": [
    "x['y'].values()"
   ]
  },
  {
   "cell_type": "code",
   "execution_count": 113,
   "id": "77f16907",
   "metadata": {},
   "outputs": [
    {
     "data": {
      "text/plain": [
       "dict_items([('bhai1', 'muje smj ni aareha hai bhai'), ('bhai2', 'muje sab smjh aagya mai expert hu'), ('y', {'x': 'kya haal hai bhai!!'})])"
      ]
     },
     "execution_count": 113,
     "metadata": {},
     "output_type": "execute_result"
    }
   ],
   "source": [
    "x.items()"
   ]
  },
  {
   "cell_type": "code",
   "execution_count": 114,
   "id": "0407ec4b",
   "metadata": {},
   "outputs": [
    {
     "data": {
      "text/plain": [
       "dict_items([('name', 'A'), ('age', 34), ('add', 'Delhi'), ('emp', {'name': 'A', 'salary': 2, 'holidays': 12, 'add': 'Delhi'})])"
      ]
     },
     "execution_count": 114,
     "metadata": {},
     "output_type": "execute_result"
    }
   ],
   "source": [
    "s.items()"
   ]
  },
  {
   "cell_type": "code",
   "execution_count": null,
   "id": "5a6cc695",
   "metadata": {},
   "outputs": [],
   "source": [
    "# Wap  to find prime number??\n",
    "# wap to find fibonacci series??\n"
   ]
  }
 ],
 "metadata": {
  "kernelspec": {
   "display_name": "Python 3 (ipykernel)",
   "language": "python",
   "name": "python3"
  },
  "language_info": {
   "codemirror_mode": {
    "name": "ipython",
    "version": 3
   },
   "file_extension": ".py",
   "mimetype": "text/x-python",
   "name": "python",
   "nbconvert_exporter": "python",
   "pygments_lexer": "ipython3",
   "version": "3.9.7"
  }
 },
 "nbformat": 4,
 "nbformat_minor": 5
}
