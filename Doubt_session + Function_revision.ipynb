{
 "cells": [
  {
   "cell_type": "code",
   "execution_count": 7,
   "id": "75e99019",
   "metadata": {},
   "outputs": [
    {
     "name": "stdout",
     "output_type": "stream",
     "text": [
      "55\n"
     ]
    }
   ],
   "source": [
    "#Wap to sum all number present in a list.\n",
    "def add_list():\n",
    "#     a = [1,2,3,4]\n",
    "    total = 0\n",
    "    for i in range(11):\n",
    "        total = total+i\n",
    "    print(total)\n",
    "    \n",
    "add_list()"
   ]
  },
  {
   "cell_type": "code",
   "execution_count": 8,
   "id": "2743a61f",
   "metadata": {},
   "outputs": [
    {
     "name": "stdout",
     "output_type": "stream",
     "text": [
      "2\n",
      "3\n",
      "4\n",
      "5\n",
      "6\n",
      "7\n",
      "8\n",
      "9\n",
      "10\n",
      "11\n"
     ]
    }
   ],
   "source": [
    "# 2 - 12\n",
    "# 1 . initialization\n",
    "# 2. condition\n",
    "# 3. increment/decrement\n",
    "\n",
    "x = 2\n",
    "while x<12:\n",
    "    print(x)\n",
    "    x = x+1\n",
    "#     x+=1\n",
    "#     x++\n",
    "    "
   ]
  },
  {
   "cell_type": "code",
   "execution_count": 12,
   "id": "f86f49bc",
   "metadata": {},
   "outputs": [],
   "source": [
    "a = (1,2,3,\"abc\",45.7)"
   ]
  },
  {
   "cell_type": "code",
   "execution_count": 13,
   "id": "92384913",
   "metadata": {},
   "outputs": [
    {
     "data": {
      "text/plain": [
       "tuple"
      ]
     },
     "execution_count": 13,
     "metadata": {},
     "output_type": "execute_result"
    }
   ],
   "source": [
    "type(a)"
   ]
  },
  {
   "cell_type": "code",
   "execution_count": 14,
   "id": "706398dd",
   "metadata": {},
   "outputs": [],
   "source": [
    "# pop\n",
    "# count , index"
   ]
  },
  {
   "cell_type": "code",
   "execution_count": 15,
   "id": "d56e7e9e",
   "metadata": {},
   "outputs": [],
   "source": [
    "# not mutable ---- tuple\n",
    "\n",
    "\n",
    "# list----> use any kind of data type\n",
    "# mutable\n",
    "# duplicacy\n",
    "\n",
    "# tuple----> use any of data type\n",
    "# non mutable\n",
    "# duplicacy allowed\n",
    "\n",
    "a = (1,1,1,2,4,5,\"hello\")"
   ]
  },
  {
   "cell_type": "code",
   "execution_count": 16,
   "id": "8e28b6ee",
   "metadata": {},
   "outputs": [
    {
     "data": {
      "text/plain": [
       "(1, 1, 1, 2, 4, 5, 'hello')"
      ]
     },
     "execution_count": 16,
     "metadata": {},
     "output_type": "execute_result"
    }
   ],
   "source": [
    "a"
   ]
  },
  {
   "cell_type": "code",
   "execution_count": 19,
   "id": "effe4a88",
   "metadata": {},
   "outputs": [
    {
     "ename": "TypeError",
     "evalue": "'tuple' object does not support item assignment",
     "output_type": "error",
     "traceback": [
      "\u001b[1;31m---------------------------------------------------------------------------\u001b[0m",
      "\u001b[1;31mTypeError\u001b[0m                                 Traceback (most recent call last)",
      "\u001b[1;32m~\\AppData\\Local\\Temp/ipykernel_11416/2958744549.py\u001b[0m in \u001b[0;36m<module>\u001b[1;34m\u001b[0m\n\u001b[1;32m----> 1\u001b[1;33m \u001b[0ma\u001b[0m \u001b[1;33m[\u001b[0m\u001b[1;36m5\u001b[0m\u001b[1;33m]\u001b[0m\u001b[1;33m=\u001b[0m\u001b[1;36m100\u001b[0m\u001b[1;33m\u001b[0m\u001b[1;33m\u001b[0m\u001b[0m\n\u001b[0m",
      "\u001b[1;31mTypeError\u001b[0m: 'tuple' object does not support item assignment"
     ]
    }
   ],
   "source": [
    "a [5]=100"
   ]
  },
  {
   "cell_type": "code",
   "execution_count": 18,
   "id": "0d35b9a0",
   "metadata": {},
   "outputs": [
    {
     "data": {
      "text/plain": [
       "5"
      ]
     },
     "execution_count": 18,
     "metadata": {},
     "output_type": "execute_result"
    }
   ],
   "source": [
    "a[-2]"
   ]
  },
  {
   "cell_type": "code",
   "execution_count": 20,
   "id": "49fdde1a",
   "metadata": {},
   "outputs": [
    {
     "name": "stdout",
     "output_type": "stream",
     "text": [
      "011000"
     ]
    }
   ],
   "source": [
    "# decimal to binary\n",
    "def btd(num):\n",
    "    if num>=1:\n",
    "        btd(num//2)\n",
    "    print(num%2,end=\"\")\n",
    "dec_val = 24\n",
    "btd(dec_val)"
   ]
  },
  {
   "cell_type": "code",
   "execution_count": 24,
   "id": "e46b70d9",
   "metadata": {},
   "outputs": [
    {
     "name": "stdout",
     "output_type": "stream",
     "text": [
      "4\n"
     ]
    }
   ],
   "source": [
    "n = 3481\n",
    "count = 0 \n",
    "while n>0:\n",
    "    count = count+1\n",
    "    n = n//10\n",
    "#     print(n)\n",
    "print(count)"
   ]
  },
  {
   "cell_type": "code",
   "execution_count": 28,
   "id": "155125db",
   "metadata": {},
   "outputs": [
    {
     "name": "stdout",
     "output_type": "stream",
     "text": [
      "348\n"
     ]
    }
   ],
   "source": [
    "n = 3481\n",
    "a = n//10\n",
    "print(a)"
   ]
  },
  {
   "cell_type": "code",
   "execution_count": 29,
   "id": "f6412120",
   "metadata": {},
   "outputs": [],
   "source": [
    "a = [1,2,3,4,'Anuj bhiya','Banti Bhau',45.9,23.2]\n"
   ]
  },
  {
   "cell_type": "code",
   "execution_count": 30,
   "id": "e7b377ab",
   "metadata": {},
   "outputs": [
    {
     "data": {
      "text/plain": [
       "23.2"
      ]
     },
     "execution_count": 30,
     "metadata": {},
     "output_type": "execute_result"
    }
   ],
   "source": [
    "a.pop()"
   ]
  },
  {
   "cell_type": "code",
   "execution_count": 31,
   "id": "666eeda5",
   "metadata": {},
   "outputs": [
    {
     "data": {
      "text/plain": [
       "[1, 2, 3, 4, 'Anuj bhiya', 'Banti Bhau', 45.9]"
      ]
     },
     "execution_count": 31,
     "metadata": {},
     "output_type": "execute_result"
    }
   ],
   "source": [
    "a"
   ]
  },
  {
   "cell_type": "code",
   "execution_count": 32,
   "id": "80ff7a50",
   "metadata": {},
   "outputs": [
    {
     "name": "stdout",
     "output_type": "stream",
     "text": [
      "10\n"
     ]
    }
   ],
   "source": [
    "# Function----> \n",
    "a = 9\n",
    "b=1\n",
    "print(a+b)"
   ]
  },
  {
   "cell_type": "code",
   "execution_count": 39,
   "id": "16600942",
   "metadata": {},
   "outputs": [
    {
     "name": "stdout",
     "output_type": "stream",
     "text": [
      "hy hello\n"
     ]
    }
   ],
   "source": [
    "# define the function\n",
    "def greet():\n",
    "    print(\"hy\",\"hello\")\n",
    "#     print(\"hello\")\n",
    "greet()\n",
    "    "
   ]
  },
  {
   "cell_type": "code",
   "execution_count": 37,
   "id": "a865c42a",
   "metadata": {},
   "outputs": [
    {
     "name": "stdout",
     "output_type": "stream",
     "text": [
      "hy\n"
     ]
    }
   ],
   "source": [
    "# call the function\n",
    "greet()"
   ]
  },
  {
   "cell_type": "code",
   "execution_count": 40,
   "id": "15bef3fa",
   "metadata": {},
   "outputs": [
    {
     "name": "stdout",
     "output_type": "stream",
     "text": [
      "11\n"
     ]
    }
   ],
   "source": [
    "# without arg with return\n",
    "def add():\n",
    "    a = 9\n",
    "    b = 2\n",
    "    c = a+b\n",
    "    print(c)\n",
    "add()"
   ]
  },
  {
   "cell_type": "code",
   "execution_count": 42,
   "id": "bb53dd51",
   "metadata": {},
   "outputs": [
    {
     "name": "stdout",
     "output_type": "stream",
     "text": [
      "10\n"
     ]
    }
   ],
   "source": [
    "# with arg no return\n",
    "def add(a,b):\n",
    "    c = a+b\n",
    "    print(c)\n",
    "add(4,6)"
   ]
  },
  {
   "cell_type": "code",
   "execution_count": 46,
   "id": "129f8e80",
   "metadata": {},
   "outputs": [
    {
     "data": {
      "text/plain": [
       "10"
      ]
     },
     "execution_count": 46,
     "metadata": {},
     "output_type": "execute_result"
    }
   ],
   "source": [
    "# with arg with return\n",
    "def add(a,b):\n",
    "    c = a+b\n",
    "    return (c)\n",
    "add(4,6)"
   ]
  },
  {
   "cell_type": "code",
   "execution_count": 47,
   "id": "48ba50f1",
   "metadata": {},
   "outputs": [
    {
     "data": {
      "text/plain": [
       "11"
      ]
     },
     "execution_count": 47,
     "metadata": {},
     "output_type": "execute_result"
    }
   ],
   "source": [
    "# no arg with return\n",
    "def add():\n",
    "    a = 9\n",
    "    b = 2\n",
    "    c = a+b\n",
    "    return c\n",
    "    \n",
    "add()"
   ]
  },
  {
   "cell_type": "code",
   "execution_count": null,
   "id": "3d2a8077",
   "metadata": {},
   "outputs": [],
   "source": [
    "# Wap to convert tuple to string!!"
   ]
  }
 ],
 "metadata": {
  "kernelspec": {
   "display_name": "Python 3 (ipykernel)",
   "language": "python",
   "name": "python3"
  },
  "language_info": {
   "codemirror_mode": {
    "name": "ipython",
    "version": 3
   },
   "file_extension": ".py",
   "mimetype": "text/x-python",
   "name": "python",
   "nbconvert_exporter": "python",
   "pygments_lexer": "ipython3",
   "version": "3.9.7"
  }
 },
 "nbformat": 4,
 "nbformat_minor": 5
}
