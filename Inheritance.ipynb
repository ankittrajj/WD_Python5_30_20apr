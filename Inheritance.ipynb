{
 "cells": [
  {
   "cell_type": "code",
   "execution_count": 5,
   "id": "9099da76",
   "metadata": {},
   "outputs": [
    {
     "name": "stdout",
     "output_type": "stream",
     "text": [
      "Tax is -----> 400000.0\n",
      "Discount-----> 140000.0\n",
      "2400000.0\n",
      "1860000.0\n",
      "Actual Price of car--------> 540000.0\n"
     ]
    }
   ],
   "source": [
    "#wap to make a class of automobile and try to calculate \n",
    "# the price of the\n",
    "# car if the car is of 20 lakh then you have to pay \n",
    "# the tax of 20%,\n",
    "# and the showroom give a discount of 7% on your \n",
    "# purchase,so try to \n",
    "# find the actual cost of the car with the help \n",
    "# of constructor??\n",
    "\n",
    "class info:\n",
    "    def __init__(self,price):\n",
    "        self.price = price\n",
    "        \n",
    "    def total_price(self):\n",
    "        tax = (self.price * 20 )/100\n",
    "        dis = (self.price * 7)/100\n",
    "        print(\"Tax is ----->\",tax)\n",
    "        print(\"Discount----->\",dis)\n",
    "        \n",
    "        total_tax = self.price+tax\n",
    "        total_dis = self.price-dis\n",
    "        print(total_tax)\n",
    "        print(total_dis)\n",
    "        \n",
    "        actual_price = total_tax - total_dis\n",
    "        print(\"Actual Price of car-------->\",actual_price)\n",
    "        \n",
    "i = info(2000000)\n",
    "i.total_price()\n",
    "        \n",
    "        "
   ]
  },
  {
   "cell_type": "markdown",
   "id": "2f1ab0b6",
   "metadata": {},
   "source": [
    "# Inheritance"
   ]
  },
  {
   "cell_type": "code",
   "execution_count": 14,
   "id": "0b10f1d7",
   "metadata": {},
   "outputs": [],
   "source": [
    "class parent:\n",
    "    def __init__(self,name,age):\n",
    "        self.name = name\n",
    "        self.age = age\n",
    "        \n",
    "class child(parent):\n",
    "    def __init__(self,name,age,phone):\n",
    "        parent.__init__(self,name,age)\n",
    "        self.phone = phone\n",
    "        \n",
    "c = child('A',23,1234)"
   ]
  },
  {
   "cell_type": "code",
   "execution_count": 15,
   "id": "4e8d2caa",
   "metadata": {},
   "outputs": [
    {
     "data": {
      "text/plain": [
       "'A'"
      ]
     },
     "execution_count": 15,
     "metadata": {},
     "output_type": "execute_result"
    }
   ],
   "source": [
    "c.name"
   ]
  },
  {
   "cell_type": "code",
   "execution_count": 16,
   "id": "76aa8aa1",
   "metadata": {},
   "outputs": [
    {
     "data": {
      "text/plain": [
       "1234"
      ]
     },
     "execution_count": 16,
     "metadata": {},
     "output_type": "execute_result"
    }
   ],
   "source": [
    "c.phone"
   ]
  },
  {
   "cell_type": "code",
   "execution_count": 22,
   "id": "35f87f75",
   "metadata": {},
   "outputs": [],
   "source": [
    "class Parent:\n",
    "    def __init__(self,name,age):\n",
    "        self.name = name\n",
    "        self.age = age\n",
    "        \n",
    "class child(Parent):\n",
    "    def __init__(self,name,age,phone):\n",
    "        super().__init__(name,age)\n",
    "        self.phone = phone\n",
    "        \n",
    "c = child('A',23,1234)"
   ]
  },
  {
   "cell_type": "code",
   "execution_count": 23,
   "id": "fd9b187e",
   "metadata": {},
   "outputs": [
    {
     "data": {
      "text/plain": [
       "'A'"
      ]
     },
     "execution_count": 23,
     "metadata": {},
     "output_type": "execute_result"
    }
   ],
   "source": [
    "c.name"
   ]
  },
  {
   "cell_type": "code",
   "execution_count": 19,
   "id": "c967e260",
   "metadata": {},
   "outputs": [
    {
     "data": {
      "text/plain": [
       "1234"
      ]
     },
     "execution_count": 19,
     "metadata": {},
     "output_type": "execute_result"
    }
   ],
   "source": [
    "c.phone"
   ]
  },
  {
   "cell_type": "code",
   "execution_count": 41,
   "id": "72bd585e",
   "metadata": {},
   "outputs": [],
   "source": [
    "# wap and make a class of emp and try to inherit the common properties\n",
    "# from  the emp and try to find the salary of emp if the emp take more\n",
    "# than 12 holidays total salary will deducted by 5%.\n",
    "class emp1:\n",
    "    def __init__(self,name,age,salary):\n",
    "        self.name = name\n",
    "        self.age = age\n",
    "        self.salary = salary\n",
    "#         self.leave = leave\n",
    "        \n",
    "class emp2(emp1):\n",
    "    def __init__(self,name,age,salary):\n",
    "        super().__init__(name,age,salary)\n",
    "        \n",
    "        \n",
    "    def holiday(self,leave):\n",
    "        if leave>12:\n",
    "            ded = self.salary * 0.05\n",
    "            print(ded)\n",
    "        \n",
    "        \n",
    "e = emp2('A',45,3400000)\n",
    "\n"
   ]
  },
  {
   "cell_type": "code",
   "execution_count": 26,
   "id": "99442de6",
   "metadata": {},
   "outputs": [
    {
     "data": {
      "text/plain": [
       "3400000"
      ]
     },
     "execution_count": 26,
     "metadata": {},
     "output_type": "execute_result"
    }
   ],
   "source": [
    "e.salary"
   ]
  },
  {
   "cell_type": "code",
   "execution_count": 42,
   "id": "d8667225",
   "metadata": {},
   "outputs": [
    {
     "name": "stdout",
     "output_type": "stream",
     "text": [
      "170000.0\n"
     ]
    }
   ],
   "source": [
    "e.holiday(100)"
   ]
  },
  {
   "cell_type": "code",
   "execution_count": null,
   "id": "26be7bed",
   "metadata": {},
   "outputs": [],
   "source": [
    "#1.wap to make a class of vechicle and define its attributes like \n",
    "# speed, color & engine and try to find out the total dist covered of\n",
    "# the particular vechile which having a speed of 80km/hr within 3hr.\n",
    "\n",
    "# 2.wap and make a class of emp and try to inherit the common properties\n",
    "# from  the emp and try to find the salary of emp if the emp take more\n",
    "# than 12 holidays total salary will deducted by 5%.\n",
    "\n",
    "#3. wap and make a class of emp and try to inherit the common properties\n",
    "# from  the emp and try to find the salary of emp if the emp take more\n",
    "# than 12 holidays total salary will deducted by 5% and if the emp take 0 \n",
    "# holiday\n",
    "# then salary will be bonus by 7 % and also if a emp take atmost 6 holiday\n",
    "# then 2% of the salary is given to the emp.\n",
    "\n",
    "#4.wap to make a class and inherit the property of transport class like\n",
    "# color,milage,and speed also a child class which is having no unique property\n",
    "# to display.\n",
    "\n",
    "#5.wap to make a class of having no properties,attribute or method(empty class)\n",
    "# just try to \n",
    "# make the object of the empty class and try to get the output of the code.\n",
    "\n",
    "#6.wap and try to get the attributes of the particular \n",
    "# class through the object."
   ]
  },
  {
   "cell_type": "code",
   "execution_count": null,
   "id": "00be4c14",
   "metadata": {},
   "outputs": [],
   "source": []
  }
 ],
 "metadata": {
  "kernelspec": {
   "display_name": "Python 3 (ipykernel)",
   "language": "python",
   "name": "python3"
  },
  "language_info": {
   "codemirror_mode": {
    "name": "ipython",
    "version": 3
   },
   "file_extension": ".py",
   "mimetype": "text/x-python",
   "name": "python",
   "nbconvert_exporter": "python",
   "pygments_lexer": "ipython3",
   "version": "3.9.7"
  }
 },
 "nbformat": 4,
 "nbformat_minor": 5
}
