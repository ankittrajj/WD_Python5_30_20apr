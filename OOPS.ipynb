{
 "cells": [
  {
   "cell_type": "code",
   "execution_count": 9,
   "id": "17d57526",
   "metadata": {},
   "outputs": [
    {
     "ename": "SyntaxError",
     "evalue": "'return' outside function (Temp/ipykernel_860/3541814825.py, line 3)",
     "output_type": "error",
     "traceback": [
      "\u001b[1;36m  File \u001b[1;32m\"C:\\Users\\Satyam\\AppData\\Local\\Temp/ipykernel_860/3541814825.py\"\u001b[1;36m, line \u001b[1;32m3\u001b[0m\n\u001b[1;33m    return (a)\u001b[0m\n\u001b[1;37m    ^\u001b[0m\n\u001b[1;31mSyntaxError\u001b[0m\u001b[1;31m:\u001b[0m 'return' outside function\n"
     ]
    }
   ],
   "source": [
    "class bike:\n",
    "    a = 10\n",
    "    print (a)\n",
    "    \n",
    "bike()  "
   ]
  },
  {
   "cell_type": "code",
   "execution_count": 13,
   "id": "ca2f05f0",
   "metadata": {},
   "outputs": [
    {
     "name": "stdout",
     "output_type": "stream",
     "text": [
      "['hello bhai !! dev kaise ho??']\n"
     ]
    }
   ],
   "source": [
    "#wap to greet hello hi how are you using class and object!!\n",
    "\n",
    "class greet:\n",
    "    a = \"hello bhai !! dev kaise ho??\"\n",
    "    print(a)\n",
    "    \n",
    "g = greet()"
   ]
  },
  {
   "cell_type": "code",
   "execution_count": 19,
   "id": "c93c3a70",
   "metadata": {},
   "outputs": [
    {
     "name": "stdout",
     "output_type": "stream",
     "text": [
      "Dev\n"
     ]
    }
   ],
   "source": [
    "class student:\n",
    "    def info(self):\n",
    "        name = 'Dev'\n",
    "        print(name)\n",
    "        \n",
    "s = student()\n",
    "s.info()\n",
    "        \n",
    "        "
   ]
  },
  {
   "cell_type": "code",
   "execution_count": null,
   "id": "77ba93a0",
   "metadata": {},
   "outputs": [],
   "source": [
    "#wap to add two number with the help of class and object using function."
   ]
  }
 ],
 "metadata": {
  "kernelspec": {
   "display_name": "Python 3 (ipykernel)",
   "language": "python",
   "name": "python3"
  },
  "language_info": {
   "codemirror_mode": {
    "name": "ipython",
    "version": 3
   },
   "file_extension": ".py",
   "mimetype": "text/x-python",
   "name": "python",
   "nbconvert_exporter": "python",
   "pygments_lexer": "ipython3",
   "version": "3.9.7"
  }
 },
 "nbformat": 4,
 "nbformat_minor": 5
}
