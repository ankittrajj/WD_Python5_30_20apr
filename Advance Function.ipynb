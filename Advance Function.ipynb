{
 "cells": [
  {
   "cell_type": "markdown",
   "id": "cbbd2828",
   "metadata": {},
   "source": [
    "# Lambda Function"
   ]
  },
  {
   "cell_type": "code",
   "execution_count": 1,
   "id": "c239cb32",
   "metadata": {},
   "outputs": [
    {
     "data": {
      "text/plain": [
       "7"
      ]
     },
     "execution_count": 1,
     "metadata": {},
     "output_type": "execute_result"
    }
   ],
   "source": [
    "def fun(a,b):\n",
    "    result = a+b\n",
    "    return result\n",
    "\n",
    "fun(3,4)\n",
    "    "
   ]
  },
  {
   "cell_type": "code",
   "execution_count": 4,
   "id": "2578ca2b",
   "metadata": {},
   "outputs": [
    {
     "ename": "NameError",
     "evalue": "name 'x' is not defined",
     "output_type": "error",
     "traceback": [
      "\u001b[1;31m---------------------------------------------------------------------------\u001b[0m",
      "\u001b[1;31mNameError\u001b[0m                                 Traceback (most recent call last)",
      "\u001b[1;32m~\\AppData\\Local\\Temp/ipykernel_1976/2606948059.py\u001b[0m in \u001b[0;36m<module>\u001b[1;34m\u001b[0m\n\u001b[1;32m----> 1\u001b[1;33m \u001b[0ma\u001b[0m \u001b[1;33m=\u001b[0m \u001b[1;32mlambda\u001b[0m \u001b[0mx\u001b[0m\u001b[1;33m,\u001b[0m\u001b[0my\u001b[0m\u001b[1;33m:\u001b[0m\u001b[0mx\u001b[0m\u001b[1;33m+\u001b[0m\u001b[0my\u001b[0m\u001b[1;33m,\u001b[0m\u001b[0mx\u001b[0m\u001b[1;33m-\u001b[0m\u001b[0my\u001b[0m\u001b[1;33m\u001b[0m\u001b[1;33m\u001b[0m\u001b[0m\n\u001b[0m\u001b[0;32m      2\u001b[0m \u001b[0ma\u001b[0m\u001b[1;33m(\u001b[0m\u001b[1;36m3\u001b[0m\u001b[1;33m,\u001b[0m\u001b[1;36m4\u001b[0m\u001b[1;33m)\u001b[0m\u001b[1;33m\u001b[0m\u001b[1;33m\u001b[0m\u001b[0m\n",
      "\u001b[1;31mNameError\u001b[0m: name 'x' is not defined"
     ]
    }
   ],
   "source": [
    "a = lambda x,y:x+y,x-y\n",
    "a(3,4)"
   ]
  },
  {
   "cell_type": "code",
   "execution_count": 3,
   "id": "dca15239",
   "metadata": {},
   "outputs": [
    {
     "data": {
      "text/plain": [
       "6"
      ]
     },
     "execution_count": 3,
     "metadata": {},
     "output_type": "execute_result"
    }
   ],
   "source": [
    "#wap to add a number with the help of lambda function.\n",
    "c = lambda x:x+4\n",
    "c(2)"
   ]
  },
  {
   "cell_type": "code",
   "execution_count": 8,
   "id": "92a82263",
   "metadata": {},
   "outputs": [
    {
     "data": {
      "text/plain": [
       "6"
      ]
     },
     "execution_count": 8,
     "metadata": {},
     "output_type": "execute_result"
    }
   ],
   "source": [
    "a = lambda x,y,z : x+y*z-x\n",
    "a(1,2,3)"
   ]
  },
  {
   "cell_type": "code",
   "execution_count": 9,
   "id": "60a8f223",
   "metadata": {},
   "outputs": [
    {
     "name": "stdout",
     "output_type": "stream",
     "text": [
      "67\n",
      "90\n",
      "78\n",
      "99\n"
     ]
    }
   ],
   "source": [
    "# filter \n",
    "\n",
    "a = [23,67,90,34,78,45,55,99,21]\n",
    "for i in a:\n",
    "    if i>=60:\n",
    "        print(i)"
   ]
  },
  {
   "cell_type": "code",
   "execution_count": 10,
   "id": "c6becde5",
   "metadata": {},
   "outputs": [
    {
     "name": "stdout",
     "output_type": "stream",
     "text": [
      "67\n",
      "90\n",
      "78\n",
      "99\n"
     ]
    }
   ],
   "source": [
    "def fun():\n",
    "    a = [23,67,90,34,78,45,55,99,21]\n",
    "    for i in a:\n",
    "        if i>=60:\n",
    "            print(i)\n",
    "            \n",
    "fun()"
   ]
  },
  {
   "cell_type": "code",
   "execution_count": 18,
   "id": "724ec44b",
   "metadata": {},
   "outputs": [
    {
     "name": "stdout",
     "output_type": "stream",
     "text": [
      "[67, 90, 78, 99, 67]\n"
     ]
    }
   ],
   "source": [
    "# function + filter function\n",
    "a = [23,67,90,34,78,45,55,99,21,67]\n",
    "\n",
    "def fun(a):\n",
    "    if a>=60:\n",
    "        return True\n",
    "    else:\n",
    "        return False\n",
    "    \n",
    "x = list(filter(fun,a))\n",
    "print(x)\n",
    "    \n",
    "    \n"
   ]
  },
  {
   "cell_type": "code",
   "execution_count": 19,
   "id": "5efd9a5f",
   "metadata": {},
   "outputs": [
    {
     "data": {
      "text/plain": [
       "[67, 90, 78, 99, 67]"
      ]
     },
     "execution_count": 19,
     "metadata": {},
     "output_type": "execute_result"
    }
   ],
   "source": [
    "x"
   ]
  },
  {
   "cell_type": "code",
   "execution_count": 21,
   "id": "c5ae616f",
   "metadata": {},
   "outputs": [],
   "source": [
    "x[0]=100"
   ]
  },
  {
   "cell_type": "code",
   "execution_count": 22,
   "id": "427effd1",
   "metadata": {},
   "outputs": [
    {
     "data": {
      "text/plain": [
       "[100, 90, 78, 99, 67]"
      ]
     },
     "execution_count": 22,
     "metadata": {},
     "output_type": "execute_result"
    }
   ],
   "source": [
    "x"
   ]
  },
  {
   "cell_type": "code",
   "execution_count": 30,
   "id": "88b47eac",
   "metadata": {},
   "outputs": [
    {
     "data": {
      "text/plain": [
       "(67, 90, 78, 99, 67)"
      ]
     },
     "execution_count": 30,
     "metadata": {},
     "output_type": "execute_result"
    }
   ],
   "source": [
    "# lambda + filter function\n",
    "\n",
    "a = [23,67,90,34,78,45,55,99,21,67]\n",
    "tuple(filter(lambda a:True if a>=60 else False,a))\n"
   ]
  },
  {
   "cell_type": "code",
   "execution_count": 25,
   "id": "952f3983",
   "metadata": {},
   "outputs": [
    {
     "name": "stdout",
     "output_type": "stream",
     "text": [
      "(67, 90, 78, 99, 67)\n"
     ]
    }
   ],
   "source": [
    "a = [23,67,90,34,78,45,55,99,21,67]\n",
    "x = tuple(filter(lambda a:True if a>=60 else False,a))\n",
    "print(x)"
   ]
  },
  {
   "cell_type": "code",
   "execution_count": 27,
   "id": "8a0068d0",
   "metadata": {},
   "outputs": [
    {
     "data": {
      "text/plain": [
       "20"
      ]
     },
     "execution_count": 27,
     "metadata": {},
     "output_type": "execute_result"
    }
   ],
   "source": [
    "# 1.Write a Python program to create a lambda function that adds 15 \n",
    "# to a given number passed in as an argument, also create a lambda \n",
    "# function that multiplies argument x with argument y and \n",
    "# print the result.\n",
    "\n",
    "\n",
    "a = lambda x:x+15\n",
    "a(5)\n"
   ]
  },
  {
   "cell_type": "code",
   "execution_count": 29,
   "id": "903c199d",
   "metadata": {},
   "outputs": [
    {
     "data": {
      "text/plain": [
       "70"
      ]
     },
     "execution_count": 29,
     "metadata": {},
     "output_type": "execute_result"
    }
   ],
   "source": [
    "result = lambda x,y:x*y\n",
    "result(14,5)"
   ]
  },
  {
   "cell_type": "code",
   "execution_count": 31,
   "id": "ce1621ad",
   "metadata": {},
   "outputs": [
    {
     "name": "stdout",
     "output_type": "stream",
     "text": [
      "hello world\n"
     ]
    }
   ],
   "source": [
    "print(\"hello world\")"
   ]
  },
  {
   "cell_type": "code",
   "execution_count": null,
   "id": "33674a0d",
   "metadata": {},
   "outputs": [],
   "source": []
  }
 ],
 "metadata": {
  "kernelspec": {
   "display_name": "Python 3 (ipykernel)",
   "language": "python",
   "name": "python3"
  },
  "language_info": {
   "codemirror_mode": {
    "name": "ipython",
    "version": 3
   },
   "file_extension": ".py",
   "mimetype": "text/x-python",
   "name": "python",
   "nbconvert_exporter": "python",
   "pygments_lexer": "ipython3",
   "version": "3.9.7"
  }
 },
 "nbformat": 4,
 "nbformat_minor": 5
}
