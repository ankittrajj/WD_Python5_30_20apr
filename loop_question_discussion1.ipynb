{
 "cells": [
  {
   "cell_type": "code",
   "execution_count": 3,
   "id": "6f539872",
   "metadata": {},
   "outputs": [
    {
     "name": "stdout",
     "output_type": "stream",
     "text": [
      "9\n",
      "98\n",
      "985\n",
      "9854\n"
     ]
    }
   ],
   "source": [
    "a = 4589\n",
    "reverse_num = 0\n",
    "\n",
    "while a > 0:\n",
    "    digit = a % 10\n",
    "    reverse_num = reverse_num * 10 +digit\n",
    "    a = a//10\n",
    "    \n",
    "    print(reverse_num)"
   ]
  },
  {
   "cell_type": "code",
   "execution_count": 6,
   "id": "d3feb396",
   "metadata": {},
   "outputs": [
    {
     "name": "stdout",
     "output_type": "stream",
     "text": [
      "Not div!!\n"
     ]
    }
   ],
   "source": [
    "#wap to solve prime number.\n",
    "\n",
    "#wap to find number which is not only divisible by both 6 & 2 but also by 5.\n",
    "\n",
    "\n",
    "a = 30\n",
    "if a%5 == 0 and a% 2 == 0 and a % 6 ==0:\n",
    "    print(\"Divisible\")\n",
    "    \n",
    "else:\n",
    "    print('Not div!!')\n"
   ]
  },
  {
   "cell_type": "code",
   "execution_count": 7,
   "id": "5024c157",
   "metadata": {},
   "outputs": [],
   "source": [
    "num = 23\n",
    "if num>1:\n",
    "    for i in range(2,num+1):\n",
    "        \n",
    "\n",
    "\n"
   ]
  },
  {
   "cell_type": "code",
   "execution_count": 18,
   "id": "e9fdca7e",
   "metadata": {},
   "outputs": [
    {
     "name": "stdout",
     "output_type": "stream",
     "text": [
      "not prime\n"
     ]
    }
   ],
   "source": [
    "x = 57\n",
    "n = 0 \n",
    "for i in range(1,x+1):\n",
    "    if x % i == 0 :\n",
    "        n = n+i\n",
    "if n == x+1:\n",
    "    print(\"prime number\")\n",
    "else:\n",
    "    print(\"not prime\")"
   ]
  },
  {
   "cell_type": "code",
   "execution_count": 26,
   "id": "5f6823e9",
   "metadata": {},
   "outputs": [
    {
     "name": "stdout",
     "output_type": "stream",
     "text": [
      "Palindrome\n"
     ]
    }
   ],
   "source": [
    "#wap to find a string is palindrome or not??\n",
    "a = 'nitin'\n",
    "b = ''\n",
    "for i in a:\n",
    "    b = i+b\n",
    "if a==b:\n",
    "    print(\"Palindrome\")\n",
    "else:\n",
    "    print(\"Palindrome ni hai bhai!!\")"
   ]
  },
  {
   "cell_type": "code",
   "execution_count": null,
   "id": "55ffa81e",
   "metadata": {},
   "outputs": [],
   "source": [
    "n = 71923487\n",
    "count = 0\n",
    "while n>0:\n",
    "    count = count + 1\n",
    "    n=n//10\n",
    "   \n",
    "    \n",
    "print(count)"
   ]
  },
  {
   "cell_type": "code",
   "execution_count": null,
   "id": "a8873e34",
   "metadata": {},
   "outputs": [],
   "source": []
  },
  {
   "cell_type": "code",
   "execution_count": null,
   "id": "755b1d76",
   "metadata": {},
   "outputs": [],
   "source": []
  },
  {
   "cell_type": "code",
   "execution_count": null,
   "id": "f5b010af",
   "metadata": {},
   "outputs": [],
   "source": []
  }
 ],
 "metadata": {
  "kernelspec": {
   "display_name": "Python 3 (ipykernel)",
   "language": "python",
   "name": "python3"
  },
  "language_info": {
   "codemirror_mode": {
    "name": "ipython",
    "version": 3
   },
   "file_extension": ".py",
   "mimetype": "text/x-python",
   "name": "python",
   "nbconvert_exporter": "python",
   "pygments_lexer": "ipython3",
   "version": "3.9.7"
  }
 },
 "nbformat": 4,
 "nbformat_minor": 5
}
