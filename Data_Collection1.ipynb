{
 "cells": [
  {
   "cell_type": "code",
   "execution_count": 1,
   "id": "fa9aaa3b",
   "metadata": {},
   "outputs": [
    {
     "name": "stdout",
     "output_type": "stream",
     "text": [
      "[90, 34, 56, 78, 12, 32, 67]\n"
     ]
    }
   ],
   "source": [
    "# list----->\n",
    "# tuple\n",
    "# dict\n",
    "# set\n",
    "\n",
    "# list----> \n",
    "\n",
    "\n",
    "# creating a list\n",
    "\n",
    "a = [90,34,56,78,12,32,67]\n",
    "print(a)"
   ]
  },
  {
   "cell_type": "code",
   "execution_count": 2,
   "id": "ab33fedb",
   "metadata": {},
   "outputs": [
    {
     "data": {
      "text/plain": [
       "list"
      ]
     },
     "execution_count": 2,
     "metadata": {},
     "output_type": "execute_result"
    }
   ],
   "source": [
    "type(a)"
   ]
  },
  {
   "cell_type": "code",
   "execution_count": 3,
   "id": "4c195a0c",
   "metadata": {},
   "outputs": [
    {
     "data": {
      "text/plain": [
       "[90, 34, 56, 45.67, 32.3, 23.18]"
      ]
     },
     "execution_count": 3,
     "metadata": {},
     "output_type": "execute_result"
    }
   ],
   "source": [
    "a = [90,34,56,45.67,32.3,23.18]\n",
    "a"
   ]
  },
  {
   "cell_type": "code",
   "execution_count": 4,
   "id": "e93c4757",
   "metadata": {},
   "outputs": [
    {
     "data": {
      "text/plain": [
       "list"
      ]
     },
     "execution_count": 4,
     "metadata": {},
     "output_type": "execute_result"
    }
   ],
   "source": [
    "type(a)"
   ]
  },
  {
   "cell_type": "code",
   "execution_count": 9,
   "id": "d6e08689",
   "metadata": {},
   "outputs": [
    {
     "data": {
      "text/plain": [
       "['hello', 'bhai', -1, 2, 3, -45.5, 78.2]"
      ]
     },
     "execution_count": 9,
     "metadata": {},
     "output_type": "execute_result"
    }
   ],
   "source": [
    "x = ['hello','bhai',-1,2,3,-45.5,78.2]\n",
    "x"
   ]
  },
  {
   "cell_type": "code",
   "execution_count": 10,
   "id": "52ef6147",
   "metadata": {},
   "outputs": [
    {
     "data": {
      "text/plain": [
       "list"
      ]
     },
     "execution_count": 10,
     "metadata": {},
     "output_type": "execute_result"
    }
   ],
   "source": [
    "type(x)"
   ]
  },
  {
   "cell_type": "code",
   "execution_count": 11,
   "id": "b2ede8e4",
   "metadata": {},
   "outputs": [
    {
     "data": {
      "text/plain": [
       "['hello', 'bhai', -1, 2, 3, -45.5, 78.2]"
      ]
     },
     "execution_count": 11,
     "metadata": {},
     "output_type": "execute_result"
    }
   ],
   "source": [
    "#slicing & indexing \n",
    "x\n"
   ]
  },
  {
   "cell_type": "code",
   "execution_count": 12,
   "id": "648c4d34",
   "metadata": {},
   "outputs": [
    {
     "data": {
      "text/plain": [
       "2"
      ]
     },
     "execution_count": 12,
     "metadata": {},
     "output_type": "execute_result"
    }
   ],
   "source": [
    "x[3]"
   ]
  },
  {
   "cell_type": "code",
   "execution_count": 13,
   "id": "9c0ff433",
   "metadata": {},
   "outputs": [
    {
     "data": {
      "text/plain": [
       "['hello', 'bhai', -1, 2, 3, -45.5, 78.2]"
      ]
     },
     "execution_count": 13,
     "metadata": {},
     "output_type": "execute_result"
    }
   ],
   "source": [
    "x"
   ]
  },
  {
   "cell_type": "code",
   "execution_count": 14,
   "id": "d0cffc08",
   "metadata": {},
   "outputs": [
    {
     "data": {
      "text/plain": [
       "'hello'"
      ]
     },
     "execution_count": 14,
     "metadata": {},
     "output_type": "execute_result"
    }
   ],
   "source": [
    "x[0]"
   ]
  },
  {
   "cell_type": "code",
   "execution_count": 19,
   "id": "c7b405b5",
   "metadata": {},
   "outputs": [
    {
     "data": {
      "text/plain": [
       "[2, 3, -45.5]"
      ]
     },
     "execution_count": 19,
     "metadata": {},
     "output_type": "execute_result"
    }
   ],
   "source": [
    "x[3:6]"
   ]
  },
  {
   "cell_type": "code",
   "execution_count": 20,
   "id": "13773dc9",
   "metadata": {},
   "outputs": [
    {
     "data": {
      "text/plain": [
       "['hello', 'bhai', -1, 2, 3, -45.5, 78.2]"
      ]
     },
     "execution_count": 20,
     "metadata": {},
     "output_type": "execute_result"
    }
   ],
   "source": [
    "x"
   ]
  },
  {
   "cell_type": "code",
   "execution_count": 21,
   "id": "bcaabe59",
   "metadata": {},
   "outputs": [
    {
     "data": {
      "text/plain": [
       "['hello', 'bhai', -1, 2, 3, -45.5, 78.2]"
      ]
     },
     "execution_count": 21,
     "metadata": {},
     "output_type": "execute_result"
    }
   ],
   "source": [
    "x[0:7]"
   ]
  },
  {
   "cell_type": "code",
   "execution_count": 22,
   "id": "048b7775",
   "metadata": {},
   "outputs": [
    {
     "data": {
      "text/plain": [
       "['hello', 'bhai', -1, 2, 3, -45.5, 78.2]"
      ]
     },
     "execution_count": 22,
     "metadata": {},
     "output_type": "execute_result"
    }
   ],
   "source": [
    "x[0:]"
   ]
  },
  {
   "cell_type": "code",
   "execution_count": 23,
   "id": "8dd072e9",
   "metadata": {},
   "outputs": [
    {
     "data": {
      "text/plain": [
       "['hello', 'bhai', -1, 2, 3, -45.5, 78.2]"
      ]
     },
     "execution_count": 23,
     "metadata": {},
     "output_type": "execute_result"
    }
   ],
   "source": [
    "x[:]"
   ]
  },
  {
   "cell_type": "code",
   "execution_count": 25,
   "id": "a27c6f3a",
   "metadata": {},
   "outputs": [
    {
     "data": {
      "text/plain": [
       "[78.2, -45.5, 3, 2, -1]"
      ]
     },
     "execution_count": 25,
     "metadata": {},
     "output_type": "execute_result"
    }
   ],
   "source": [
    "x[7:1:-1]"
   ]
  },
  {
   "cell_type": "code",
   "execution_count": 26,
   "id": "af0b1ef6",
   "metadata": {},
   "outputs": [
    {
     "data": {
      "text/plain": [
       "[78.2, -45.5, 3, 2, -1, 'bhai']"
      ]
     },
     "execution_count": 26,
     "metadata": {},
     "output_type": "execute_result"
    }
   ],
   "source": [
    "x[7:0:-1]"
   ]
  },
  {
   "cell_type": "code",
   "execution_count": 27,
   "id": "802650ed",
   "metadata": {},
   "outputs": [
    {
     "data": {
      "text/plain": [
       "[]"
      ]
     },
     "execution_count": 27,
     "metadata": {},
     "output_type": "execute_result"
    }
   ],
   "source": [
    "x[7:-1:-1]"
   ]
  },
  {
   "cell_type": "code",
   "execution_count": 29,
   "id": "52730670",
   "metadata": {},
   "outputs": [
    {
     "data": {
      "text/plain": [
       "[]"
      ]
     },
     "execution_count": 29,
     "metadata": {},
     "output_type": "execute_result"
    }
   ],
   "source": [
    "x[::-1]"
   ]
  },
  {
   "cell_type": "code",
   "execution_count": 32,
   "id": "6415d384",
   "metadata": {},
   "outputs": [
    {
     "data": {
      "text/plain": [
       "78.2"
      ]
     },
     "execution_count": 32,
     "metadata": {},
     "output_type": "execute_result"
    }
   ],
   "source": [
    "x[6]"
   ]
  },
  {
   "cell_type": "code",
   "execution_count": 33,
   "id": "79885f82",
   "metadata": {},
   "outputs": [
    {
     "data": {
      "text/plain": [
       "78.2"
      ]
     },
     "execution_count": 33,
     "metadata": {},
     "output_type": "execute_result"
    }
   ],
   "source": [
    "x[-1]"
   ]
  },
  {
   "cell_type": "code",
   "execution_count": 34,
   "id": "4b1fe8aa",
   "metadata": {},
   "outputs": [
    {
     "data": {
      "text/plain": [
       "'hello'"
      ]
     },
     "execution_count": 34,
     "metadata": {},
     "output_type": "execute_result"
    }
   ],
   "source": [
    "x[-0]"
   ]
  },
  {
   "cell_type": "code",
   "execution_count": 35,
   "id": "b783d592",
   "metadata": {},
   "outputs": [
    {
     "data": {
      "text/plain": [
       "'hello'"
      ]
     },
     "execution_count": 35,
     "metadata": {},
     "output_type": "execute_result"
    }
   ],
   "source": [
    "x[0]"
   ]
  },
  {
   "cell_type": "code",
   "execution_count": 36,
   "id": "74813f21",
   "metadata": {},
   "outputs": [
    {
     "data": {
      "text/plain": [
       "['hello', 'bhai', -1, 2, 3, -45.5, 78.2]"
      ]
     },
     "execution_count": 36,
     "metadata": {},
     "output_type": "execute_result"
    }
   ],
   "source": [
    "x"
   ]
  },
  {
   "cell_type": "code",
   "execution_count": 39,
   "id": "b3a7e3ba",
   "metadata": {},
   "outputs": [
    {
     "data": {
      "text/plain": [
       "['hello', 'bhai', -1, 2, 3, -45.5]"
      ]
     },
     "execution_count": 39,
     "metadata": {},
     "output_type": "execute_result"
    }
   ],
   "source": [
    "x[-7:-1]"
   ]
  },
  {
   "cell_type": "code",
   "execution_count": 42,
   "id": "625885e8",
   "metadata": {},
   "outputs": [
    {
     "data": {
      "text/plain": [
       "[78.2, -45.5, 3, 2, -1, 'bhai']"
      ]
     },
     "execution_count": 42,
     "metadata": {},
     "output_type": "execute_result"
    }
   ],
   "source": [
    "x[6:0:-1]"
   ]
  },
  {
   "cell_type": "code",
   "execution_count": 43,
   "id": "e7a6ba96",
   "metadata": {},
   "outputs": [
    {
     "data": {
      "text/plain": [
       "['hello', 'bhai', -1, 2, 3, -45.5, 78.2]"
      ]
     },
     "execution_count": 43,
     "metadata": {},
     "output_type": "execute_result"
    }
   ],
   "source": [
    "x[::]"
   ]
  },
  {
   "cell_type": "code",
   "execution_count": 44,
   "id": "65d6b62f",
   "metadata": {},
   "outputs": [
    {
     "data": {
      "text/plain": [
       "['hello', 'bhai', -1, 2, 3, -45.5, 78.2]"
      ]
     },
     "execution_count": 44,
     "metadata": {},
     "output_type": "execute_result"
    }
   ],
   "source": [
    "x[:]"
   ]
  },
  {
   "cell_type": "code",
   "execution_count": 45,
   "id": "03229d63",
   "metadata": {},
   "outputs": [
    {
     "data": {
      "text/plain": [
       "[78.2, -45.5, 3, 2, -1, 'bhai', 'hello']"
      ]
     },
     "execution_count": 45,
     "metadata": {},
     "output_type": "execute_result"
    }
   ],
   "source": [
    "x[-1:-8:-1]"
   ]
  },
  {
   "cell_type": "code",
   "execution_count": 46,
   "id": "0275d496",
   "metadata": {},
   "outputs": [
    {
     "data": {
      "text/plain": [
       "['hello', 'bhai', -1, 2, 3, -45.5, 78.2]"
      ]
     },
     "execution_count": 46,
     "metadata": {},
     "output_type": "execute_result"
    }
   ],
   "source": [
    "#mutable or immutable\n",
    "x"
   ]
  },
  {
   "cell_type": "code",
   "execution_count": 48,
   "id": "b5fc1530",
   "metadata": {},
   "outputs": [],
   "source": [
    "x[-2]='welcome nikhil'"
   ]
  },
  {
   "cell_type": "code",
   "execution_count": 49,
   "id": "113ebe02",
   "metadata": {},
   "outputs": [
    {
     "data": {
      "text/plain": [
       "['hello', 'bhai', -1, 2, 3, 'welcome nikhil', 78.2]"
      ]
     },
     "execution_count": 49,
     "metadata": {},
     "output_type": "execute_result"
    }
   ],
   "source": [
    "x"
   ]
  },
  {
   "cell_type": "code",
   "execution_count": 59,
   "id": "5dc3d6c2",
   "metadata": {},
   "outputs": [],
   "source": [
    "x = ['delhi','mumbai','chennai','osolo','new york','gurgaon']"
   ]
  },
  {
   "cell_type": "code",
   "execution_count": 54,
   "id": "64541bde",
   "metadata": {},
   "outputs": [
    {
     "data": {
      "text/plain": [
       "['delhi', 'mumbai', 'chennai', 'osolo', 'new york', 'gurgaon']"
      ]
     },
     "execution_count": 54,
     "metadata": {},
     "output_type": "execute_result"
    }
   ],
   "source": [
    "x"
   ]
  },
  {
   "cell_type": "code",
   "execution_count": 55,
   "id": "442b7f47",
   "metadata": {},
   "outputs": [
    {
     "data": {
      "text/plain": [
       "list"
      ]
     },
     "execution_count": 55,
     "metadata": {},
     "output_type": "execute_result"
    }
   ],
   "source": [
    "type(x)"
   ]
  },
  {
   "cell_type": "code",
   "execution_count": 67,
   "id": "525c8a7c",
   "metadata": {},
   "outputs": [],
   "source": [
    "x[2]='Bangalore'"
   ]
  },
  {
   "cell_type": "code",
   "execution_count": 68,
   "id": "9d472085",
   "metadata": {},
   "outputs": [
    {
     "data": {
      "text/plain": [
       "['delhi', 'mumbai', 'Bangalore', 'osolo', 'new york', 'gurgaon']"
      ]
     },
     "execution_count": 68,
     "metadata": {},
     "output_type": "execute_result"
    }
   ],
   "source": [
    "x"
   ]
  },
  {
   "cell_type": "code",
   "execution_count": 70,
   "id": "ceb26eb1",
   "metadata": {},
   "outputs": [
    {
     "data": {
      "text/plain": [
       "100"
      ]
     },
     "execution_count": 70,
     "metadata": {},
     "output_type": "execute_result"
    }
   ],
   "source": [
    "#wap to add the number present in the list.\n",
    "a = [10,20,30,40]\n",
    "sum1 = sum(a)\n",
    "sum1"
   ]
  },
  {
   "cell_type": "code",
   "execution_count": 75,
   "id": "93e7f7ba",
   "metadata": {},
   "outputs": [
    {
     "name": "stdout",
     "output_type": "stream",
     "text": [
      "100\n"
     ]
    }
   ],
   "source": [
    "a = [10,20,30,40]\n",
    "total = 0\n",
    "for i in a:\n",
    "#     print(i)\n",
    "    total = total+i\n",
    "print(total)"
   ]
  },
  {
   "cell_type": "code",
   "execution_count": 76,
   "id": "7c5a203e",
   "metadata": {},
   "outputs": [
    {
     "name": "stdout",
     "output_type": "stream",
     "text": [
      "[1, 2, 3, 4, 5, 6]\n"
     ]
    }
   ],
   "source": [
    "a = [1,2,3]\n",
    "b = [4,5,6]\n",
    "c = a+b\n",
    "print(c)"
   ]
  },
  {
   "cell_type": "code",
   "execution_count": 77,
   "id": "7c02ba8c",
   "metadata": {},
   "outputs": [
    {
     "data": {
      "text/plain": [
       "['delhi', 'mumbai', 'Bangalore', 'osolo', 'new york', 'gurgaon']"
      ]
     },
     "execution_count": 77,
     "metadata": {},
     "output_type": "execute_result"
    }
   ],
   "source": [
    "# function/method in list\n",
    "# 1.remove\n",
    "# 2.insert\n",
    "# 3.pop\n",
    "x"
   ]
  },
  {
   "cell_type": "code",
   "execution_count": 81,
   "id": "6d663312",
   "metadata": {},
   "outputs": [],
   "source": [
    "x.insert(0,100)"
   ]
  },
  {
   "cell_type": "code",
   "execution_count": 82,
   "id": "fb2a0bc3",
   "metadata": {},
   "outputs": [
    {
     "data": {
      "text/plain": [
       "[100, 0, 'delhi', 'mumbai', 'Bangalore', 'osolo', 'new york', 'gurgaon']"
      ]
     },
     "execution_count": 82,
     "metadata": {},
     "output_type": "execute_result"
    }
   ],
   "source": [
    "x"
   ]
  },
  {
   "cell_type": "code",
   "execution_count": 83,
   "id": "d7ca027b",
   "metadata": {},
   "outputs": [],
   "source": [
    "# 5 ----> boolean??\n",
    "x.insert(5,True)"
   ]
  },
  {
   "cell_type": "code",
   "execution_count": 84,
   "id": "8a43c1d0",
   "metadata": {},
   "outputs": [
    {
     "data": {
      "text/plain": [
       "[100, 0, 'delhi', 'mumbai', 'Bangalore', True, 'osolo', 'new york', 'gurgaon']"
      ]
     },
     "execution_count": 84,
     "metadata": {},
     "output_type": "execute_result"
    }
   ],
   "source": [
    "x"
   ]
  },
  {
   "cell_type": "code",
   "execution_count": 85,
   "id": "5fa3c214",
   "metadata": {},
   "outputs": [
    {
     "data": {
      "text/plain": [
       "'gurgaon'"
      ]
     },
     "execution_count": 85,
     "metadata": {},
     "output_type": "execute_result"
    }
   ],
   "source": [
    "x.pop()"
   ]
  },
  {
   "cell_type": "code",
   "execution_count": 87,
   "id": "24801e7f",
   "metadata": {},
   "outputs": [
    {
     "data": {
      "text/plain": [
       "'new york'"
      ]
     },
     "execution_count": 87,
     "metadata": {},
     "output_type": "execute_result"
    }
   ],
   "source": [
    "x.pop()"
   ]
  },
  {
   "cell_type": "code",
   "execution_count": 88,
   "id": "148df16d",
   "metadata": {},
   "outputs": [
    {
     "data": {
      "text/plain": [
       "0"
      ]
     },
     "execution_count": 88,
     "metadata": {},
     "output_type": "execute_result"
    }
   ],
   "source": [
    "x.pop(1)"
   ]
  },
  {
   "cell_type": "code",
   "execution_count": 93,
   "id": "bfeaa2db",
   "metadata": {},
   "outputs": [
    {
     "data": {
      "text/plain": [
       "[100, 'delhi', 'mumbai', 'Bangalore', True, 'osolo']"
      ]
     },
     "execution_count": 93,
     "metadata": {},
     "output_type": "execute_result"
    }
   ],
   "source": [
    "x"
   ]
  },
  {
   "cell_type": "code",
   "execution_count": 94,
   "id": "596a95c5",
   "metadata": {},
   "outputs": [],
   "source": [
    "x.remove(100)"
   ]
  },
  {
   "cell_type": "code",
   "execution_count": 95,
   "id": "d523ca11",
   "metadata": {},
   "outputs": [
    {
     "data": {
      "text/plain": [
       "['delhi', 'mumbai', 'Bangalore', True, 'osolo']"
      ]
     },
     "execution_count": 95,
     "metadata": {},
     "output_type": "execute_result"
    }
   ],
   "source": [
    "x"
   ]
  },
  {
   "cell_type": "code",
   "execution_count": 97,
   "id": "17cdcb68",
   "metadata": {},
   "outputs": [
    {
     "data": {
      "text/plain": [
       "'mumbai'"
      ]
     },
     "execution_count": 97,
     "metadata": {},
     "output_type": "execute_result"
    }
   ],
   "source": [
    "x[1]"
   ]
  },
  {
   "cell_type": "code",
   "execution_count": 98,
   "id": "a15bb5e5",
   "metadata": {},
   "outputs": [
    {
     "data": {
      "text/plain": [
       "True"
      ]
     },
     "execution_count": 98,
     "metadata": {},
     "output_type": "execute_result"
    }
   ],
   "source": [
    "x[3]"
   ]
  },
  {
   "cell_type": "code",
   "execution_count": 99,
   "id": "cda77870",
   "metadata": {},
   "outputs": [
    {
     "data": {
      "text/plain": [
       "['delhi', 'mumbai', 'Bangalore', True, 'osolo']"
      ]
     },
     "execution_count": 99,
     "metadata": {},
     "output_type": "execute_result"
    }
   ],
   "source": [
    "x"
   ]
  },
  {
   "cell_type": "code",
   "execution_count": 100,
   "id": "d2a5da3f",
   "metadata": {},
   "outputs": [
    {
     "name": "stdout",
     "output_type": "stream",
     "text": [
      "delhi\n",
      "mumbai\n",
      "Bangalore\n",
      "True\n",
      "osolo\n"
     ]
    }
   ],
   "source": [
    "for i in x:\n",
    "    print(i)"
   ]
  },
  {
   "cell_type": "code",
   "execution_count": 101,
   "id": "fedf432d",
   "metadata": {},
   "outputs": [
    {
     "data": {
      "text/plain": [
       "['delhi', 'mumbai', 'Bangalore', True, 'osolo']"
      ]
     },
     "execution_count": 101,
     "metadata": {},
     "output_type": "execute_result"
    }
   ],
   "source": [
    "x"
   ]
  },
  {
   "cell_type": "code",
   "execution_count": 106,
   "id": "59bd3d8a",
   "metadata": {},
   "outputs": [],
   "source": [
    "x.remove(True)"
   ]
  },
  {
   "cell_type": "code",
   "execution_count": 107,
   "id": "0e24b15c",
   "metadata": {},
   "outputs": [
    {
     "data": {
      "text/plain": [
       "['delhi', 'Bangalore', 'osolo']"
      ]
     },
     "execution_count": 107,
     "metadata": {},
     "output_type": "execute_result"
    }
   ],
   "source": [
    "x"
   ]
  },
  {
   "cell_type": "code",
   "execution_count": null,
   "id": "57cb644b",
   "metadata": {},
   "outputs": [],
   "source": []
  }
 ],
 "metadata": {
  "kernelspec": {
   "display_name": "Python 3 (ipykernel)",
   "language": "python",
   "name": "python3"
  },
  "language_info": {
   "codemirror_mode": {
    "name": "ipython",
    "version": 3
   },
   "file_extension": ".py",
   "mimetype": "text/x-python",
   "name": "python",
   "nbconvert_exporter": "python",
   "pygments_lexer": "ipython3",
   "version": "3.9.7"
  }
 },
 "nbformat": 4,
 "nbformat_minor": 5
}
